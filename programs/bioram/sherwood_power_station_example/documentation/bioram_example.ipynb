{
 "cells": [
  {
   "cell_type": "raw",
   "metadata": {
    "vscode": {
     "languageId": "raw"
    }
   },
   "source": [
    "# Sherwood Station Power Company BIORAM Example\n",
    "\n",
    "This notebook demonstrates the BIORAM compliance example using the latest BOOST Python reference implementation (v2.5.1) with enhanced validation features:\n",
    "\n",
    "## Key Features\n",
    "\n",
    "- **Schema Compliance**: All entities conform to BOOST core schemas\n",
    "- **Dynamic Validation**: Uses schema-driven validation that adapts to changes\n",
    "- **JSON-LD Support**: Proper semantic web compatibility with `@context`, `@type`, `@id`\n",
    "- **Enum Serialization**: Properly outputs strings instead of enum objects\n",
    "- **None Field Handling**: Optional fields properly excluded from validation\n",
    "- **ID Pattern Compliance**: Follows BOOST ID conventions (`ORG-*`, `TXN-*`, etc.)\n",
    "- **Comprehensive Validation**: Full validation across all entities\n"
   ]
  },
  {
   "cell_type": "code",
   "execution_count": 8,
   "id": "b4e803f7",
   "metadata": {},
   "outputs": [
    {
     "name": "stdout",
     "output_type": "stream",
     "text": [
      "✅ BOOST Python reference implementation imported successfully\n",
      "✅ Schema directory found at /Users/lkilroy/Documents/BOOST/drafts/current/schema\n"
     ]
    }
   ],
   "source": [
    "import sys\n",
    "import os\n",
    "import json\n",
    "from datetime import datetime, date\n",
    "from pathlib import Path\n",
    "\n",
    "# Add BOOST Python reference implementation to path\n",
    "boost_python_path = Path(\"../../../../drafts/current/reference-implementations/python\")\n",
    "schema_path = Path(\"../../../../drafts/current/schema\")\n",
    "\n",
    "# Verify paths exist\n",
    "if not boost_python_path.resolve().exists():\n",
    "    raise FileNotFoundError(f\"Python implementation not found at {boost_python_path.resolve()}\")\n",
    "if not schema_path.resolve().exists():\n",
    "    raise FileNotFoundError(f\"Schema directory not found at {schema_path.resolve()}\")\n",
    "\n",
    "sys.path.insert(0, str(boost_python_path.resolve()))\n",
    "\n",
    "# Import BOOST client\n",
    "from boost_client import create_client\n",
    "\n",
    "print(\"✅ BOOST Python reference implementation imported successfully\")\n",
    "print(f\"✅ Schema directory found at {schema_path.resolve()}\")\n"
   ]
  },
  {
   "cell_type": "code",
   "execution_count": 9,
   "id": "8fac97ac",
   "metadata": {},
   "outputs": [
    {
     "ename": "TypeError",
     "evalue": "'type' object is not iterable",
     "output_type": "error",
     "traceback": [
      "\u001b[0;31m---------------------------------------------------------------------------\u001b[0m",
      "\u001b[0;31mTypeError\u001b[0m                                 Traceback (most recent call last)",
      "Cell \u001b[0;32mIn[9], line 3\u001b[0m\n\u001b[1;32m      1\u001b[0m \u001b[38;5;66;03m# Initialize BOOST client with schema path\u001b[39;00m\n\u001b[1;32m      2\u001b[0m schema_path \u001b[38;5;241m=\u001b[39m \u001b[38;5;28mstr\u001b[39m(Path(\u001b[38;5;124m\"\u001b[39m\u001b[38;5;124m../../../../drafts/current/schema\u001b[39m\u001b[38;5;124m\"\u001b[39m)\u001b[38;5;241m.\u001b[39mresolve())\n\u001b[0;32m----> 3\u001b[0m client \u001b[38;5;241m=\u001b[39m \u001b[43mcreate_client\u001b[49m\u001b[43m(\u001b[49m\u001b[43mschema_path\u001b[49m\u001b[38;5;241;43m=\u001b[39;49m\u001b[43mschema_path\u001b[49m\u001b[43m)\u001b[49m\n\u001b[1;32m      5\u001b[0m \u001b[38;5;66;03m# Get schema information\u001b[39;00m\n\u001b[1;32m      6\u001b[0m schema_info \u001b[38;5;241m=\u001b[39m client\u001b[38;5;241m.\u001b[39mget_schema_info()\n",
      "File \u001b[0;32m~/Documents/BOOST/drafts/current/reference-implementations/python/boost_client.py:562\u001b[0m, in \u001b[0;36mcreate_client\u001b[0;34m(context_url, schema_path)\u001b[0m\n\u001b[1;32m    551\u001b[0m \u001b[38;5;28;01mdef\u001b[39;00m\u001b[38;5;250m \u001b[39m\u001b[38;5;21mcreate_client\u001b[39m(context_url: Optional[\u001b[38;5;28mstr\u001b[39m] \u001b[38;5;241m=\u001b[39m \u001b[38;5;28;01mNone\u001b[39;00m, schema_path: Optional[\u001b[38;5;28mstr\u001b[39m] \u001b[38;5;241m=\u001b[39m \u001b[38;5;28;01mNone\u001b[39;00m) \u001b[38;5;241m-\u001b[39m\u001b[38;5;241m>\u001b[39m BOOSTClient:\n\u001b[1;32m    552\u001b[0m \u001b[38;5;250m    \u001b[39m\u001b[38;5;124;03m\"\"\"\u001b[39;00m\n\u001b[1;32m    553\u001b[0m \u001b[38;5;124;03m    Factory function to create a BOOST client.\u001b[39;00m\n\u001b[1;32m    554\u001b[0m \u001b[38;5;124;03m    \u001b[39;00m\n\u001b[0;32m   (...)\u001b[0m\n\u001b[1;32m    560\u001b[0m \u001b[38;5;124;03m        BOOSTClient instance\u001b[39;00m\n\u001b[1;32m    561\u001b[0m \u001b[38;5;124;03m    \"\"\"\u001b[39;00m\n\u001b[0;32m--> 562\u001b[0m     \u001b[38;5;28;01mreturn\u001b[39;00m \u001b[43mBOOSTClient\u001b[49m\u001b[43m(\u001b[49m\u001b[43mcontext_url\u001b[49m\u001b[43m,\u001b[49m\u001b[43m \u001b[49m\u001b[43mschema_path\u001b[49m\u001b[43m)\u001b[49m\n",
      "File \u001b[0;32m~/Documents/BOOST/drafts/current/reference-implementations/python/boost_client.py:36\u001b[0m, in \u001b[0;36mBOOSTClient.__init__\u001b[0;34m(self, context_url, schema_path)\u001b[0m\n\u001b[1;32m     28\u001b[0m \u001b[38;5;250m\u001b[39m\u001b[38;5;124;03m\"\"\"\u001b[39;00m\n\u001b[1;32m     29\u001b[0m \u001b[38;5;124;03mInitialize BOOST client.\u001b[39;00m\n\u001b[1;32m     30\u001b[0m \u001b[38;5;124;03m\u001b[39;00m\n\u001b[0;32m   (...)\u001b[0m\n\u001b[1;32m     33\u001b[0m \u001b[38;5;124;03m    schema_path: Path to BOOST schema directory (optional)\u001b[39;00m\n\u001b[1;32m     34\u001b[0m \u001b[38;5;124;03m\"\"\"\u001b[39;00m\n\u001b[1;32m     35\u001b[0m \u001b[38;5;28mself\u001b[39m\u001b[38;5;241m.\u001b[39mcontext_url \u001b[38;5;241m=\u001b[39m context_url \u001b[38;5;129;01mor\u001b[39;00m \u001b[38;5;124m\"\u001b[39m\u001b[38;5;124mhttps://github.com/carbondirect/BOOST/context\u001b[39m\u001b[38;5;124m\"\u001b[39m\n\u001b[0;32m---> 36\u001b[0m \u001b[38;5;28mself\u001b[39m\u001b[38;5;241m.\u001b[39mschema_loader \u001b[38;5;241m=\u001b[39m \u001b[43mSchemaLoader\u001b[49m\u001b[43m(\u001b[49m\u001b[43mschema_path\u001b[49m\u001b[43m)\u001b[49m\n\u001b[1;32m     37\u001b[0m \u001b[38;5;28mself\u001b[39m\u001b[38;5;241m.\u001b[39mvalidator \u001b[38;5;241m=\u001b[39m DynamicBOOSTValidator(\u001b[38;5;28mself\u001b[39m\u001b[38;5;241m.\u001b[39mschema_loader)\n\u001b[1;32m     39\u001b[0m \u001b[38;5;66;03m# Entity storage\u001b[39;00m\n",
      "File \u001b[0;32m~/Documents/BOOST/drafts/current/reference-implementations/python/schema_loader.py:44\u001b[0m, in \u001b[0;36mSchemaLoader.__init__\u001b[0;34m(self, schema_base_path)\u001b[0m\n\u001b[1;32m     42\u001b[0m \u001b[38;5;28mself\u001b[39m\u001b[38;5;241m.\u001b[39m_load_schemas()\n\u001b[1;32m     43\u001b[0m \u001b[38;5;28mself\u001b[39m\u001b[38;5;241m.\u001b[39m_discover_relationships()\n\u001b[0;32m---> 44\u001b[0m \u001b[38;5;28;43mself\u001b[39;49m\u001b[38;5;241;43m.\u001b[39;49m\u001b[43m_generate_dynamic_models\u001b[49m\u001b[43m(\u001b[49m\u001b[43m)\u001b[49m\n",
      "File \u001b[0;32m~/Documents/BOOST/drafts/current/reference-implementations/python/schema_loader.py:121\u001b[0m, in \u001b[0;36mSchemaLoader._generate_dynamic_models\u001b[0;34m(self)\u001b[0m\n\u001b[1;32m    119\u001b[0m \u001b[38;5;66;03m# Second pass: create models\u001b[39;00m\n\u001b[1;32m    120\u001b[0m \u001b[38;5;28;01mfor\u001b[39;00m entity_name, schema \u001b[38;5;129;01min\u001b[39;00m \u001b[38;5;28mself\u001b[39m\u001b[38;5;241m.\u001b[39mschemas\u001b[38;5;241m.\u001b[39mitems():\n\u001b[0;32m--> 121\u001b[0m     \u001b[38;5;28;43mself\u001b[39;49m\u001b[38;5;241;43m.\u001b[39;49m\u001b[43m_create_model_for_entity\u001b[49m\u001b[43m(\u001b[49m\u001b[43mentity_name\u001b[49m\u001b[43m,\u001b[49m\u001b[43m \u001b[49m\u001b[43mschema\u001b[49m\u001b[43m)\u001b[49m\n",
      "File \u001b[0;32m~/Documents/BOOST/drafts/current/reference-implementations/python/schema_loader.py:185\u001b[0m, in \u001b[0;36mSchemaLoader._create_model_for_entity\u001b[0;34m(self, entity_name, schema)\u001b[0m\n\u001b[1;32m    178\u001b[0m \u001b[38;5;66;03m# Create the dynamic model\u001b[39;00m\n\u001b[1;32m    179\u001b[0m model_config \u001b[38;5;241m=\u001b[39m \u001b[38;5;28mtype\u001b[39m(\u001b[38;5;124m'\u001b[39m\u001b[38;5;124mConfig\u001b[39m\u001b[38;5;124m'\u001b[39m, (), {\n\u001b[1;32m    180\u001b[0m     \u001b[38;5;124m'\u001b[39m\u001b[38;5;124mpopulate_by_name\u001b[39m\u001b[38;5;124m'\u001b[39m: \u001b[38;5;28;01mTrue\u001b[39;00m,\n\u001b[1;32m    181\u001b[0m     \u001b[38;5;124m'\u001b[39m\u001b[38;5;124mjson_encoders\u001b[39m\u001b[38;5;124m'\u001b[39m: {datetime: \u001b[38;5;28;01mlambda\u001b[39;00m v: v\u001b[38;5;241m.\u001b[39misoformat()},\n\u001b[1;32m    182\u001b[0m     \u001b[38;5;124m'\u001b[39m\u001b[38;5;124mvalidate_assignment\u001b[39m\u001b[38;5;124m'\u001b[39m: \u001b[38;5;28;01mTrue\u001b[39;00m\n\u001b[1;32m    183\u001b[0m })\n\u001b[0;32m--> 185\u001b[0m dynamic_model \u001b[38;5;241m=\u001b[39m \u001b[43mcreate_model\u001b[49m\u001b[43m(\u001b[49m\n\u001b[1;32m    186\u001b[0m \u001b[43m    \u001b[49m\u001b[43mmodel_name\u001b[49m\u001b[43m,\u001b[49m\n\u001b[1;32m    187\u001b[0m \u001b[43m    \u001b[49m\u001b[43m__config__\u001b[49m\u001b[38;5;241;43m=\u001b[39;49m\u001b[43mmodel_config\u001b[49m\u001b[43m,\u001b[49m\n\u001b[1;32m    188\u001b[0m \u001b[43m    \u001b[49m\u001b[38;5;241;43m*\u001b[39;49m\u001b[38;5;241;43m*\u001b[39;49m\u001b[43mmodel_fields\u001b[49m\n\u001b[1;32m    189\u001b[0m \u001b[43m\u001b[49m\u001b[43m)\u001b[49m\n\u001b[1;32m    191\u001b[0m \u001b[38;5;66;03m# Add custom validators if needed\u001b[39;00m\n\u001b[1;32m    192\u001b[0m \u001b[38;5;28mself\u001b[39m\u001b[38;5;241m.\u001b[39m_add_custom_validators(dynamic_model, entity_name, schema)\n",
      "File \u001b[0;32m~/Documents/BOOST/venv/lib/python3.10/site-packages/pydantic/main.py:1763\u001b[0m, in \u001b[0;36mcreate_model\u001b[0;34m(model_name, __config__, __doc__, __base__, __module__, __validators__, __cls_kwargs__, **field_definitions)\u001b[0m\n\u001b[1;32m   1760\u001b[0m     ns[\u001b[38;5;124m'\u001b[39m\u001b[38;5;124m__orig_bases__\u001b[39m\u001b[38;5;124m'\u001b[39m] \u001b[38;5;241m=\u001b[39m __base__\n\u001b[1;32m   1761\u001b[0m namespace\u001b[38;5;241m.\u001b[39mupdate(ns)\n\u001b[0;32m-> 1763\u001b[0m \u001b[38;5;28;01mreturn\u001b[39;00m \u001b[43mmeta\u001b[49m\u001b[43m(\u001b[49m\n\u001b[1;32m   1764\u001b[0m \u001b[43m    \u001b[49m\u001b[43mmodel_name\u001b[49m\u001b[43m,\u001b[49m\n\u001b[1;32m   1765\u001b[0m \u001b[43m    \u001b[49m\u001b[43mresolved_bases\u001b[49m\u001b[43m,\u001b[49m\n\u001b[1;32m   1766\u001b[0m \u001b[43m    \u001b[49m\u001b[43mnamespace\u001b[49m\u001b[43m,\u001b[49m\n\u001b[1;32m   1767\u001b[0m \u001b[43m    \u001b[49m\u001b[43m__pydantic_reset_parent_namespace__\u001b[49m\u001b[38;5;241;43m=\u001b[39;49m\u001b[38;5;28;43;01mFalse\u001b[39;49;00m\u001b[43m,\u001b[49m\n\u001b[1;32m   1768\u001b[0m \u001b[43m    \u001b[49m\u001b[43m_create_model_module\u001b[49m\u001b[38;5;241;43m=\u001b[39;49m\u001b[38;5;18;43m__module__\u001b[39;49m\u001b[43m,\u001b[49m\n\u001b[1;32m   1769\u001b[0m \u001b[43m    \u001b[49m\u001b[38;5;241;43m*\u001b[39;49m\u001b[38;5;241;43m*\u001b[39;49m\u001b[43mkwds\u001b[49m\u001b[43m,\u001b[49m\n\u001b[1;32m   1770\u001b[0m \u001b[43m\u001b[49m\u001b[43m)\u001b[49m\n",
      "File \u001b[0;32m~/Documents/BOOST/venv/lib/python3.10/site-packages/pydantic/_internal/_model_construction.py:110\u001b[0m, in \u001b[0;36mModelMetaclass.__new__\u001b[0;34m(mcs, cls_name, bases, namespace, __pydantic_generic_metadata__, __pydantic_reset_parent_namespace__, _create_model_module, **kwargs)\u001b[0m\n\u001b[1;32m    107\u001b[0m \u001b[38;5;28;01mif\u001b[39;00m bases:\n\u001b[1;32m    108\u001b[0m     base_field_names, class_vars, base_private_attributes \u001b[38;5;241m=\u001b[39m mcs\u001b[38;5;241m.\u001b[39m_collect_bases_data(bases)\n\u001b[0;32m--> 110\u001b[0m     config_wrapper \u001b[38;5;241m=\u001b[39m \u001b[43mConfigWrapper\u001b[49m\u001b[38;5;241;43m.\u001b[39;49m\u001b[43mfor_model\u001b[49m\u001b[43m(\u001b[49m\u001b[43mbases\u001b[49m\u001b[43m,\u001b[49m\u001b[43m \u001b[49m\u001b[43mnamespace\u001b[49m\u001b[43m,\u001b[49m\u001b[43m \u001b[49m\u001b[43mkwargs\u001b[49m\u001b[43m)\u001b[49m\n\u001b[1;32m    111\u001b[0m     namespace[\u001b[38;5;124m'\u001b[39m\u001b[38;5;124mmodel_config\u001b[39m\u001b[38;5;124m'\u001b[39m] \u001b[38;5;241m=\u001b[39m config_wrapper\u001b[38;5;241m.\u001b[39mconfig_dict\n\u001b[1;32m    112\u001b[0m     private_attributes \u001b[38;5;241m=\u001b[39m inspect_namespace(\n\u001b[1;32m    113\u001b[0m         namespace, config_wrapper\u001b[38;5;241m.\u001b[39mignored_types, class_vars, base_field_names\n\u001b[1;32m    114\u001b[0m     )\n",
      "File \u001b[0;32m~/Documents/BOOST/venv/lib/python3.10/site-packages/pydantic/_internal/_config.py:138\u001b[0m, in \u001b[0;36mConfigWrapper.for_model\u001b[0;34m(cls, bases, namespace, kwargs)\u001b[0m\n\u001b[1;32m    134\u001b[0m     \u001b[38;5;28;01mraise\u001b[39;00m PydanticUserError(\u001b[38;5;124m'\u001b[39m\u001b[38;5;124m\"\u001b[39m\u001b[38;5;124mConfig\u001b[39m\u001b[38;5;124m\"\u001b[39m\u001b[38;5;124m and \u001b[39m\u001b[38;5;124m\"\u001b[39m\u001b[38;5;124mmodel_config\u001b[39m\u001b[38;5;124m\"\u001b[39m\u001b[38;5;124m cannot be used together\u001b[39m\u001b[38;5;124m'\u001b[39m, code\u001b[38;5;241m=\u001b[39m\u001b[38;5;124m'\u001b[39m\u001b[38;5;124mconfig-both\u001b[39m\u001b[38;5;124m'\u001b[39m)\n\u001b[1;32m    136\u001b[0m config_from_namespace \u001b[38;5;241m=\u001b[39m config_dict_from_namespace \u001b[38;5;129;01mor\u001b[39;00m prepare_config(config_class_from_namespace)\n\u001b[0;32m--> 138\u001b[0m \u001b[43mconfig_new\u001b[49m\u001b[38;5;241;43m.\u001b[39;49m\u001b[43mupdate\u001b[49m\u001b[43m(\u001b[49m\u001b[43mconfig_from_namespace\u001b[49m\u001b[43m)\u001b[49m\n\u001b[1;32m    140\u001b[0m \u001b[38;5;28;01mfor\u001b[39;00m k \u001b[38;5;129;01min\u001b[39;00m \u001b[38;5;28mlist\u001b[39m(kwargs\u001b[38;5;241m.\u001b[39mkeys()):\n\u001b[1;32m    141\u001b[0m     \u001b[38;5;28;01mif\u001b[39;00m k \u001b[38;5;129;01min\u001b[39;00m config_keys:\n",
      "\u001b[0;31mTypeError\u001b[0m: 'type' object is not iterable"
     ]
    }
   ],
   "source": [
    "# Initialize BOOST client with schema path\n",
    "schema_path = str(Path(\"../../../../drafts/current/schema\").resolve())\n",
    "client = create_client(schema_path=schema_path)\n",
    "\n",
    "# Get schema information\n",
    "schema_info = client.get_schema_info()\n",
    "print(f\"BOOST client initialized with v2.5.1 features\")\n",
    "print(f\"Available entities: {schema_info['available_entities']}\")\n",
    "print(f\"Schema loader: {schema_info['schema_loader']}\")\n",
    "print(f\"Validator: {schema_info['validator']}\")\n"
   ]
  },
  {
   "cell_type": "raw",
   "metadata": {
    "vscode": {
     "languageId": "raw"
    }
   },
   "source": [
    "## Create and Validate Organizations\n",
    "\n",
    "Let's create organizations with the latest validation features:\n"
   ]
  },
  {
   "cell_type": "code",
   "execution_count": null,
   "id": "e4ebce74",
   "metadata": {},
   "outputs": [],
   "source": [
    "# Create Sherwood Station organization\n",
    "sherwood = client.create_organization(\n",
    "    organization_id=\"ORG-SHERWOOD-001\",\n",
    "    organizationName=\"Sherwood Station Power Company\",\n",
    "    organizationType=\"producer\",\n",
    "    contactEmail=\"contact@sherwoodstation.com\",\n",
    "    contactPhone=\"+1-555-123-4567\",\n",
    "    regulatedEntityType=\"producer\",\n",
    "    operationalStatus=\"active\",\n",
    "    facilityCapacity={\n",
    "        \"annualCapacity\": 500000,\n",
    "        \"unit\": \"MJ\"\n",
    "    }\n",
    ")\n",
    "\n",
    "# Validate organization\n",
    "validation = client.validate_entity(sherwood)\n",
    "print(\"Organization Validation:\")\n",
    "if validation['valid']:\n",
    "    print(\"Organization validated successfully\")\n",
    "else:\n",
    "    print(\"Validation errors:\", validation['schema_errors'])\n"
   ]
  },
  {
   "cell_type": "raw",
   "metadata": {
    "vscode": {
     "languageId": "raw"
    }
   },
   "source": [
    "## Demonstrate None Field Handling\n",
    "\n",
    "Create an organization with optional fields set to None:\n"
   ]
  },
  {
   "cell_type": "code",
   "execution_count": null,
   "id": "5a2e55e8",
   "metadata": {},
   "outputs": [],
   "source": [
    "# Create organization with None fields\n",
    "org_with_none = client.create_organization(\n",
    "    organization_id=\"ORG-TEST-001\",\n",
    "    organizationName=\"Test Organization\",\n",
    "    organizationType=\"supplier\",\n",
    "    contactEmail=\"contact@test.com\",\n",
    "    contactPhone=None,  # Optional field\n",
    "    regulatedEntityType=\"supplier\",\n",
    "    operationalStatus=\"active\",\n",
    "    facilityCapacity=None  # Optional field\n",
    ")\n",
    "\n",
    "# Validate organization with None fields\n",
    "validation = client.validate_entity(org_with_none)\n",
    "print(\"None Field Handling Test:\")\n",
    "if validation['valid']:\n",
    "    print(\"Organization with None fields validated successfully\")\n",
    "else:\n",
    "    print(\"Validation errors:\", validation['schema_errors'])\n"
   ]
  },
  {
   "cell_type": "raw",
   "metadata": {
    "vscode": {
     "languageId": "raw"
    }
   },
   "source": [
    "## Create and Validate Transactions\n"
   ]
  },
  {
   "cell_type": "code",
   "execution_count": null,
   "id": "0daaa958",
   "metadata": {},
   "outputs": [],
   "source": [
    "# Create a transaction\n",
    "transaction = client.create_transaction(\n",
    "    transaction_id=\"TXN-2025-Q1-001\",\n",
    "    organization_id=\"ORG-SHERWOOD-001\",\n",
    "    transaction_date=datetime.now().isoformat(),\n",
    "    contract_value=75000.00,\n",
    "    contract_currency=\"USD\",\n",
    "    transaction_status=\"completed\",\n",
    "    feedstock_type=\"mill_waste\",\n",
    "    feedstock_volume=500,\n",
    "    feedstock_unit=\"bone_dry_tonnes\",\n",
    "    pathway_id=\"PATH-BIORAM-001\"\n",
    ")\n",
    "\n",
    "# Validate transaction\n",
    "validation = client.validate_entity(transaction)\n",
    "print(\"Transaction Validation:\")\n",
    "if validation['valid']:\n",
    "    print(\"Transaction validated successfully\")\n",
    "else:\n",
    "    print(\"Validation errors:\", validation['schema_errors'])\n"
   ]
  },
  {
   "cell_type": "raw",
   "metadata": {
    "vscode": {
     "languageId": "raw"
    }
   },
   "source": [
    "## Export to JSON-LD\n",
    "\n",
    "Demonstrate the new JSON-LD export functionality:\n"
   ]
  },
  {
   "cell_type": "code",
   "execution_count": null,
   "id": "8a25aa4b",
   "metadata": {},
   "outputs": [],
   "source": [
    "# Export all entities to JSON-LD\n",
    "jsonld_output = client.export_to_jsonld()\n",
    "\n",
    "print(\"JSON-LD Export:\")\n",
    "print(json.dumps(json.loads(jsonld_output), indent=2))\n"
   ]
  },
  {
   "cell_type": "raw",
   "metadata": {
    "vscode": {
     "languageId": "raw"
    }
   },
   "source": [
    "## Comprehensive Validation\n",
    "\n",
    "Perform full validation across all entities:\n"
   ]
  },
  {
   "cell_type": "code",
   "execution_count": null,
   "id": "c34c9bb6",
   "metadata": {},
   "outputs": [],
   "source": [
    "# Perform comprehensive validation\n",
    "validation_results = client.validate_all()\n",
    "\n",
    "print(\"Comprehensive Validation Results:\")\n",
    "if validation_results['valid']:\n",
    "    print(\"All entities passed comprehensive validation\")\n",
    "else:\n",
    "    print(\"Validation errors found:\")\n",
    "    for error in validation_results['errors']:\n",
    "        print(f\"- {error}\")\n"
   ]
  },
  {
   "cell_type": "markdown",
   "id": "475767ce",
   "metadata": {},
   "source": [
    "# Sherwood Station Power Company BIORAM Example\n",
    "\n",
    "This notebook demonstrates the BIORAM compliance example for an imagined company using the BOOST Python reference implementation with proper schema validation and JSON-LD compatibility. \n",
    "\n",
    "## Key Features\n",
    "\n",
    "- **Schema Compliance**: All entities conform to BOOST core schemas\n",
    "- **Dynamic Validation**: Uses schema-driven validation from the Python reference implementation\n",
    "- **JSON-LD Support**: Proper semantic web compatibility with `@context`, `@type`, `@id`\n",
    "- **Automatic Enum Validation**: Uses current schema enums for field validation\n",
    "- **ID Pattern Compliance**: Follows BOOST ID conventions (`ORG-*`, `TXN-*`, etc.)\n",
    "- **Future-Proof Design**: Adapts automatically to schema changes"
   ]
  },
  {
   "cell_type": "markdown",
   "id": "322f6b07",
   "metadata": {},
   "source": [
    "## Set up and import BOOST Client\n"
   ]
  },
  {
   "cell_type": "code",
   "execution_count": null,
   "id": "8fabac33",
   "metadata": {},
   "outputs": [],
   "source": [
    "import sys\n",
    "import os\n",
    "import json\n",
    "from datetime import datetime, date\n",
    "from pathlib import Path\n",
    "\n",
    "# Add BOOST Python reference implementation to path\n",
    "boost_python_path = Path(\"../../../../drafts/current/reference-implementations/python\")\n",
    "sys.path.insert(0, str(boost_python_path.resolve()))\n",
    "\n",
    "# Import BOOST client\n",
    "from boost_client import create_client\n",
    "\n",
    "print(\"✓ BOOST Python reference implementation imported successfully\")"
   ]
  },
  {
   "cell_type": "code",
   "execution_count": null,
   "id": "279def48",
   "metadata": {},
   "outputs": [],
   "source": [
    "# Initialize BOOST client with schema path\n",
    "schema_path = str(Path(\"../../../../drafts/current/schema\").resolve())\n",
    "client = create_client(schema_path=schema_path)\n",
    "\n",
    "# Get schema information\n",
    "schema_info = client.get_schema_info()\n",
    "print(f\"✓ BOOST client initialized\")\n",
    "print(f\"Available entities: {schema_info['available_entities']}\")\n",
    "print(f\"Schema loader: {schema_info['schema_loader']}\")\n",
    "print(f\"Validator: {schema_info['validator']}\")"
   ]
  },
  {
   "cell_type": "markdown",
   "id": "f5e3dbb3",
   "metadata": {},
   "source": [
    "## Dynamic Schema Introspection\n",
    "\n",
    "Let's explore what enum values are available from the current schemas. \n"
   ]
  },
  {
   "cell_type": "code",
   "execution_count": null,
   "id": "a86e5b1c",
   "metadata": {},
   "outputs": [],
   "source": [
    "# Get schema information to verify available entities\n",
    "schema_info = client.get_schema_info()\n",
    "print(\"Available entities:\", schema_info['available_entities'])\n",
    "\n",
    "# Get available enum values from schemas\n",
    "try:\n",
    "    org_types = client.get_available_enum_values('organization', 'organizationType')\n",
    "    print(\"\\nOrganization types:\", org_types)\n",
    "except Exception as e:\n",
    "    print(\"\\nCould not get organization types:\", str(e))\n",
    "\n",
    "try:\n",
    "    transaction_statuses = client.get_available_enum_values('transaction', 'transactionStatus')\n",
    "    print(\"\\nTransaction statuses:\", transaction_statuses)\n",
    "except Exception as e:\n",
    "    print(\"\\nCould not get transaction statuses:\", str(e))"
   ]
  },
  {
   "cell_type": "markdown",
   "id": "bb78bd8c",
   "metadata": {},
   "source": [
    "## Create BOOST-compliant Organization \n",
    "\n",
    "Let's create the Sherwood Station Power Company organization using proper BOOST schema validation. "
   ]
  },
  {
   "cell_type": "code",
   "execution_count": null,
   "id": "27ff629e",
   "metadata": {},
   "outputs": [],
   "source": [
    "org_id = client.generate_id(\"organization\", \"SHERWOOD-STATION\")\n",
    "print(f\"Generated organization ID: {org_id}\")\n",
    "\n",
    "sherwood_station = client.create_organization(\n",
    "    organization_id=org_id,\n",
    "    organizationName=\"Sherwood Station Power Company\",\n",
    "    organizationType=\"producer\",\n",
    "    contactEmail=\"contact@sherwoodstation.com\",\n",
    "    contactPhone=\"+1-555-123-4567\",\n",
    "    regulatedEntityType=\"producer\",\n",
    "    operationalStatus=\"active\",\n",
    "    facilityCapacity={\n",
    "        \"annualCapacity\": 500000,\n",
    "        \"unit\": \"MJ\"\n",
    "    }\n",
    ")\n"
   ]
  },
  {
   "cell_type": "markdown",
   "id": "458fb68f",
   "metadata": {},
   "source": [
    "## Create Upstream Organizations\n",
    "\n",
    "Since Sherwood is an end consumer of mill waste, let's create the upstream suppliers that provide Sherwood with feedstock. \n"
   ]
  },
  {
   "cell_type": "code",
   "execution_count": null,
   "id": "1e224d4e",
   "metadata": {},
   "outputs": [],
   "source": [
    "suppliers = []\n",
    "supplier_data = [\n",
    "    {\n",
    "        \"name\": \"Anderson Valley Lumber\",\n",
    "        \"suffix\": \"AVL-001\"\n",
    "    },\n",
    "    {\n",
    "        \"name\": \"Sierra Forest Products\",\n",
    "        \"suffix\": \"SFP-001\"\n",
    "    }\n",
    "]\n",
    "\n",
    "for supplier_info in supplier_data:\n",
    "    supplier_id = client.generate_id(\"organization\", supplier_info[\"suffix\"])\n",
    "    supplier = client.create_organization(\n",
    "        organization_id=supplier_id,\n",
    "        organizationName=supplier_info[\"name\"],\n",
    "        organizationType=\"supplier\",\n",
    "        contactEmail=f\"contact@{supplier_info['suffix'].lower()}.com\",\n",
    "        contactPhone=\"+1-555-123-4567\",\n",
    "        regulatedEntityType=\"supplier\",\n",
    "        operationalStatus=\"active\"\n",
    "    )\n",
    "    suppliers.append(supplier)\n",
    "    \n",
    "    # Validate supplier\n",
    "    validation = client.validate_entity(supplier)\n",
    "    if validation['valid']:\n",
    "        print(f\"✅ Created and validated supplier: {supplier_info['name']} (ID: {supplier_id})\")\n",
    "    else:\n",
    "        print(f\"❌ Validation errors for {supplier_id}:\", validation['schema_errors'])\n",
    "\n"
   ]
  },
  {
   "cell_type": "markdown",
   "id": "d3ebb32c",
   "metadata": {},
   "source": [
    "## Create BOOST-compliant Transactions\n",
    "\n",
    "Now, let's create transactions using the proper BOOST transaction schema with all required fields. \n",
    "\n"
   ]
  },
  {
   "cell_type": "code",
   "execution_count": null,
   "id": "6d36a211",
   "metadata": {},
   "outputs": [],
   "source": [
    "# Create one transaction per supplier\n",
    "transactions = []\n",
    "\n",
    "for i, supplier in enumerate(suppliers):\n",
    "    transaction = client.create_transaction(\n",
    "        transaction_id=client.generate_id(\"transaction\", f\"2025-Q1-{i+1:03d}\"),\n",
    "        organization_id=supplier.organizationId,\n",
    "        customer_id=sherwood.organizationId,\n",
    "        transaction_date=\"2025-01-15\",\n",
    "        contract_value=75000.00,\n",
    "        contract_currency=\"USD\",\n",
    "        transaction_status=\"completed\",\n",
    "        feedstock_type=\"mill_waste\",\n",
    "        feedstock_volume=500,\n",
    "        feedstock_unit=\"bone_dry_tonnes\"\n",
    "    )\n",
    "    transactions.append(transaction)\n",
    "    \n",
    "    # Validate transaction\n",
    "    validation = client.validate_entity(transaction)\n",
    "    if validation['valid']:\n",
    "        print(f\"Transaction {transaction.transactionId} validated successfully\")\n",
    "    else:\n",
    "        print(f\"Validation errors for {transaction.transactionId}:\", validation['schema_errors'])\n",
    "\n",
    "print(f\"\\nCreated {len(transactions)} transactions\")"
   ]
  },
  {
   "cell_type": "code",
   "execution_count": null,
   "id": "08ef4867",
   "metadata": {},
   "outputs": [],
   "source": [
    "# create BOOST compliant transactions \n",
    "boost_transactions = []\n",
    "\n",
    "for i, txn_data in enumerate(original_transactions, 1):\n",
    "    # Generate proper BOOST transaction ID\n",
    "    txn_id = client.generate_id(\"transaction\", f\"2025-Q1-{i:03d}\")\n",
    "    \n",
    "    # Get customer organization data\n",
    "    supplier = suppliers[txn_data[\"supplierIndex\"]]\n",
    "    supplier_data = supplier.model_dump(by_alias=True)\n",
    "    \n",
    "    # Generate proper Supplier ID referencing the organization\n",
    "    supplier_id = client.generate_id(\"transaction\", f\"SUPP-{supplier_data['organizationId'].replace('ORG-', '')}\")\n",
    "    \n",
    "    # Calculate contract value\n",
    "    contract_value = txn_data[\"feedstockVolume\"] * txn_data[\"feedstockPrice\"]\n",
    "    transaction = client.create_transaction(\n",
    "    # Standard BOOST fields\n",
    "        transaction_id=txn_id,\n",
    "        organization_id=supplier_data[\"organizationId\"],\n",
    "        customer_id=supplier_data[\"organizationId\"],\n",
    "        transaction_date=txn_data[\"transactionDate\"],\n",
    "        contract_value=contract_value,\n",
    "        contract_currency=\"USD\",\n",
    "        transaction_status=\"completed\",\n",
    "        feedstock_type=txn_data[\"feedstockType\"],\n",
    "    \n",
    "        # BIORAM specific fields - aligned with pathways\n",
    "        pathwayId=txn_data[\"pathwayId\"],  # Link to BIORAM pathway\n",
    "        feedstockCategory=txn_data[\"feedstockCategory\"],  # Match pathway terminology\n",
    "        volumeDelivered=txn_data[\"feedstockVolume\"],\n",
    "        volumeUnit=\"bone-dry_tonnes\",  # Consistent with pathway limits\n",
    "        energyProduct=\"electricity\",  # Match pathway\n",
    "    \n",
    "        # Additional BIORAM tracking fields\n",
    "        haulDistance=txn_data[\"haulDistance\"],\n",
    "        haulUnit=\"mile\",\n",
    "        fireHazardZoneStatus=txn_data[\"fireHazardSensitivityZoneStatus\"],\n",
    "        reportingPeriod=\"2025-Q1\"\n",
    "    )\n",
    "    boost_transactions.append(transaction)\n",
    "    print(f\"Created transaction: {txn_id}\")\n",
    "\n",
    "print(f\"Created {len(boost_transactions)} transactions\")\n",
    "        \n",
    "\n",
    "        "
   ]
  }
 ],
 "metadata": {
  "kernelspec": {
   "display_name": "venv",
   "language": "python",
   "name": "python3"
  },
  "language_info": {
   "codemirror_mode": {
    "name": "ipython",
    "version": 3
   },
   "file_extension": ".py",
   "mimetype": "text/x-python",
   "name": "python",
   "nbconvert_exporter": "python",
   "pygments_lexer": "ipython3",
   "version": "3.10.9"
  }
 },
 "nbformat": 4,
 "nbformat_minor": 5
}
