{
  "cells": [
    {
      "cell_type": "markdown",
      "metadata": {
        "vscode": {
          "languageId": "raw"
        }
      },
      "source": [
        "# Sherwood Station Power Company BIORAM Example\n",
        "\n",
        "This notebook demonstrates the BIORAM compliance example using the latest BOOST Python reference implementation with Pydantic v2 features:\n",
        "\n",
        "## Key Features\n",
        "\n",
        "- **Schema Compliance**: All entities conform to BOOST core schemas\n",
        "- **Dynamic Validation**: Uses schema-driven validation that adapts to changes\n",
        "- **JSON-LD Support**: Proper semantic web compatibility with `@context`, `@type`, `@id`\n",
        "- **Pydantic v2**: Uses latest Pydantic features for improved validation\n",
        "- **None Field Handling**: Optional fields properly excluded from validation\n",
        "- **ID Pattern Compliance**: Follows BOOST ID conventions (`ORG-*`, `TXN-*`, etc.)\n",
        "- **Comprehensive Validation**: Full validation across all entities\n"
      ]
    },
    {
      "cell_type": "code",
      "execution_count": 1,
      "metadata": {},
      "outputs": [
        {
          "name": "stdout",
          "output_type": "stream",
          "text": [
            "✅ BOOST Python reference implementation imported successfully\n",
            "✅ Schema directory found at /Users/lkilroy/Documents/BOOST/drafts/current/schema\n"
          ]
        }
      ],
      "source": [
        "import sys\n",
        "import os\n",
        "import json\n",
        "from datetime import datetime, date\n",
        "from pathlib import Path\n",
        "\n",
        "# Add BOOST Python reference implementation to path\n",
        "boost_python_path = Path(\"../../../../drafts/current/reference-implementations/python\")\n",
        "schema_path = Path(\"../../../../drafts/current/schema\")\n",
        "\n",
        "# Verify paths exist\n",
        "if not boost_python_path.resolve().exists():\n",
        "    raise FileNotFoundError(f\"Python implementation not found at {boost_python_path.resolve()}\")\n",
        "if not schema_path.resolve().exists():\n",
        "    raise FileNotFoundError(f\"Schema directory not found at {schema_path.resolve()}\")\n",
        "\n",
        "sys.path.insert(0, str(boost_python_path.resolve()))\n",
        "\n",
        "# Import BOOST client\n",
        "from boost_client import create_client\n",
        "\n",
        "print(\"✅ BOOST Python reference implementation imported successfully\")\n",
        "print(f\"✅ Schema directory found at {schema_path.resolve()}\")\n"
      ]
    },
    {
      "cell_type": "code",
      "execution_count": 2,
      "metadata": {},
      "outputs": [
        {
          "name": "stdout",
          "output_type": "stream",
          "text": [
            "Successfully imported BOOSTClient from: /Users/lkilroy/Documents/BOOST\n"
          ]
        },
        {
          "name": "stderr",
          "output_type": "stream",
          "text": [
            "/Users/lkilroy/Documents/BOOST/venv/lib/python3.10/site-packages/pydantic/_internal/_config.py:373: UserWarning: Valid config keys have changed in V2:\n",
            "* 'allow_population_by_field_name' has been renamed to 'validate_by_name'\n",
            "  warnings.warn(message, UserWarning)\n"
          ]
        }
      ],
      "source": [
        "import sys\n",
        "import os\n",
        "import json\n",
        "\n",
        "# Navigate up from the current notebook directory to find the project root ('BOOST')\n",
        "# This makes the import of boost_client possible\n",
        "try:\n",
        "    # Get the directory of the current notebook\n",
        "    notebook_dir = os.path.dirname(__file__)\n",
        "except NameError:\n",
        "    # If __file__ is not defined (e.g., in interactive environment), use current working directory\n",
        "    notebook_dir = os.getcwd()\n",
        "\n",
        "# Construct the path to the project root by going up the required number of levels\n",
        "project_root = os.path.abspath(os.path.join(notebook_dir, \"../../../..\"))\n",
        "\n",
        "# Add the project root and the specific reference implementation path to sys.path\n",
        "reference_implementation_path = os.path.join(project_root, \"drafts/current/reference-implementations/python\")\n",
        "\n",
        "if project_root not in sys.path:\n",
        "    sys.path.insert(0, project_root)\n",
        "if reference_implementation_path not in sys.path:\n",
        "    sys.path.insert(0, reference_implementation_path)\n",
        "\n",
        "# Now the import should work correctly\n",
        "from boost_client import BOOSTClient\n",
        "from models import OrganizationType\n",
        "\n",
        "print(f\"Successfully imported BOOSTClient from: {project_root}\")\n"
      ]
    },
    {
      "cell_type": "code",
      "execution_count": 3,
      "metadata": {},
      "outputs": [
        {
          "ename": "TypeError",
          "evalue": "'type' object is not iterable",
          "output_type": "error",
          "traceback": [
            "\u001b[0;31m---------------------------------------------------------------------------\u001b[0m",
            "\u001b[0;31mTypeError\u001b[0m                                 Traceback (most recent call last)",
            "Cell \u001b[0;32mIn[3], line 2\u001b[0m\n\u001b[1;32m      1\u001b[0m \u001b[38;5;66;03m# Initialize BOOST client with schema path\u001b[39;00m\n\u001b[0;32m----> 2\u001b[0m client \u001b[38;5;241m=\u001b[39m \u001b[43mcreate_client\u001b[49m\u001b[43m(\u001b[49m\u001b[43mschema_path\u001b[49m\u001b[38;5;241;43m=\u001b[39;49m\u001b[38;5;28;43mstr\u001b[39;49m\u001b[43m(\u001b[49m\u001b[43mschema_path\u001b[49m\u001b[43m)\u001b[49m\u001b[43m)\u001b[49m\n\u001b[1;32m      4\u001b[0m \u001b[38;5;66;03m# Get schema information\u001b[39;00m\n\u001b[1;32m      5\u001b[0m schema_info \u001b[38;5;241m=\u001b[39m client\u001b[38;5;241m.\u001b[39mget_schema_info()\n",
            "File \u001b[0;32m~/Documents/BOOST/drafts/current/reference-implementations/python/boost_client.py:562\u001b[0m, in \u001b[0;36mcreate_client\u001b[0;34m(context_url, schema_path)\u001b[0m\n\u001b[1;32m    551\u001b[0m \u001b[38;5;28;01mdef\u001b[39;00m\u001b[38;5;250m \u001b[39m\u001b[38;5;21mcreate_client\u001b[39m(context_url: Optional[\u001b[38;5;28mstr\u001b[39m] \u001b[38;5;241m=\u001b[39m \u001b[38;5;28;01mNone\u001b[39;00m, schema_path: Optional[\u001b[38;5;28mstr\u001b[39m] \u001b[38;5;241m=\u001b[39m \u001b[38;5;28;01mNone\u001b[39;00m) \u001b[38;5;241m-\u001b[39m\u001b[38;5;241m>\u001b[39m BOOSTClient:\n\u001b[1;32m    552\u001b[0m \u001b[38;5;250m    \u001b[39m\u001b[38;5;124;03m\"\"\"\u001b[39;00m\n\u001b[1;32m    553\u001b[0m \u001b[38;5;124;03m    Factory function to create a BOOST client.\u001b[39;00m\n\u001b[1;32m    554\u001b[0m \u001b[38;5;124;03m    \u001b[39;00m\n\u001b[0;32m   (...)\u001b[0m\n\u001b[1;32m    560\u001b[0m \u001b[38;5;124;03m        BOOSTClient instance\u001b[39;00m\n\u001b[1;32m    561\u001b[0m \u001b[38;5;124;03m    \"\"\"\u001b[39;00m\n\u001b[0;32m--> 562\u001b[0m     \u001b[38;5;28;01mreturn\u001b[39;00m \u001b[43mBOOSTClient\u001b[49m\u001b[43m(\u001b[49m\u001b[43mcontext_url\u001b[49m\u001b[43m,\u001b[49m\u001b[43m \u001b[49m\u001b[43mschema_path\u001b[49m\u001b[43m)\u001b[49m\n",
            "File \u001b[0;32m~/Documents/BOOST/drafts/current/reference-implementations/python/boost_client.py:36\u001b[0m, in \u001b[0;36mBOOSTClient.__init__\u001b[0;34m(self, context_url, schema_path)\u001b[0m\n\u001b[1;32m     28\u001b[0m \u001b[38;5;250m\u001b[39m\u001b[38;5;124;03m\"\"\"\u001b[39;00m\n\u001b[1;32m     29\u001b[0m \u001b[38;5;124;03mInitialize BOOST client.\u001b[39;00m\n\u001b[1;32m     30\u001b[0m \u001b[38;5;124;03m\u001b[39;00m\n\u001b[0;32m   (...)\u001b[0m\n\u001b[1;32m     33\u001b[0m \u001b[38;5;124;03m    schema_path: Path to BOOST schema directory (optional)\u001b[39;00m\n\u001b[1;32m     34\u001b[0m \u001b[38;5;124;03m\"\"\"\u001b[39;00m\n\u001b[1;32m     35\u001b[0m \u001b[38;5;28mself\u001b[39m\u001b[38;5;241m.\u001b[39mcontext_url \u001b[38;5;241m=\u001b[39m context_url \u001b[38;5;129;01mor\u001b[39;00m \u001b[38;5;124m\"\u001b[39m\u001b[38;5;124mhttps://github.com/carbondirect/BOOST/context\u001b[39m\u001b[38;5;124m\"\u001b[39m\n\u001b[0;32m---> 36\u001b[0m \u001b[38;5;28mself\u001b[39m\u001b[38;5;241m.\u001b[39mschema_loader \u001b[38;5;241m=\u001b[39m \u001b[43mSchemaLoader\u001b[49m\u001b[43m(\u001b[49m\u001b[43mschema_path\u001b[49m\u001b[43m)\u001b[49m\n\u001b[1;32m     37\u001b[0m \u001b[38;5;28mself\u001b[39m\u001b[38;5;241m.\u001b[39mvalidator \u001b[38;5;241m=\u001b[39m DynamicBOOSTValidator(\u001b[38;5;28mself\u001b[39m\u001b[38;5;241m.\u001b[39mschema_loader)\n\u001b[1;32m     39\u001b[0m \u001b[38;5;66;03m# Entity storage\u001b[39;00m\n",
            "File \u001b[0;32m~/Documents/BOOST/drafts/current/reference-implementations/python/schema_loader.py:56\u001b[0m, in \u001b[0;36mSchemaLoader.__init__\u001b[0;34m(self, schema_base_path)\u001b[0m\n\u001b[1;32m     54\u001b[0m \u001b[38;5;28mself\u001b[39m\u001b[38;5;241m.\u001b[39m_load_schemas()\n\u001b[1;32m     55\u001b[0m \u001b[38;5;28mself\u001b[39m\u001b[38;5;241m.\u001b[39m_discover_relationships()\n\u001b[0;32m---> 56\u001b[0m \u001b[38;5;28;43mself\u001b[39;49m\u001b[38;5;241;43m.\u001b[39;49m\u001b[43m_generate_dynamic_models\u001b[49m\u001b[43m(\u001b[49m\u001b[43m)\u001b[49m\n",
            "File \u001b[0;32m~/Documents/BOOST/drafts/current/reference-implementations/python/schema_loader.py:133\u001b[0m, in \u001b[0;36mSchemaLoader._generate_dynamic_models\u001b[0;34m(self)\u001b[0m\n\u001b[1;32m    131\u001b[0m \u001b[38;5;66;03m# Second pass: create models\u001b[39;00m\n\u001b[1;32m    132\u001b[0m \u001b[38;5;28;01mfor\u001b[39;00m entity_name, schema \u001b[38;5;129;01min\u001b[39;00m \u001b[38;5;28mself\u001b[39m\u001b[38;5;241m.\u001b[39mschemas\u001b[38;5;241m.\u001b[39mitems():\n\u001b[0;32m--> 133\u001b[0m     \u001b[38;5;28;43mself\u001b[39;49m\u001b[38;5;241;43m.\u001b[39;49m\u001b[43m_create_model_for_entity\u001b[49m\u001b[43m(\u001b[49m\u001b[43mentity_name\u001b[49m\u001b[43m,\u001b[49m\u001b[43m \u001b[49m\u001b[43mschema\u001b[49m\u001b[43m)\u001b[49m\n",
            "File \u001b[0;32m~/Documents/BOOST/drafts/current/reference-implementations/python/schema_loader.py:211\u001b[0m, in \u001b[0;36mSchemaLoader._create_model_for_entity\u001b[0;34m(self, entity_name, schema)\u001b[0m\n\u001b[1;32m    208\u001b[0m     \u001b[38;5;28;01mreturn\u001b[39;00m \u001b[38;5;28mself\u001b[39m\u001b[38;5;241m.\u001b[39mdict(by_alias\u001b[38;5;241m=\u001b[39mby_alias)  \u001b[38;5;66;03m# v1\u001b[39;00m\n\u001b[1;32m    210\u001b[0m \u001b[38;5;66;03m# Create the base model\u001b[39;00m\n\u001b[0;32m--> 211\u001b[0m dynamic_model \u001b[38;5;241m=\u001b[39m \u001b[43mcreate_model\u001b[49m\u001b[43m(\u001b[49m\n\u001b[1;32m    212\u001b[0m \u001b[43m    \u001b[49m\u001b[43mmodel_name\u001b[49m\u001b[43m,\u001b[49m\n\u001b[1;32m    213\u001b[0m \u001b[43m    \u001b[49m\u001b[43m__config__\u001b[49m\u001b[38;5;241;43m=\u001b[39;49m\u001b[43mmodel_config\u001b[49m\u001b[43m,\u001b[49m\n\u001b[1;32m    214\u001b[0m \u001b[43m    \u001b[49m\u001b[38;5;241;43m*\u001b[39;49m\u001b[38;5;241;43m*\u001b[39;49m\u001b[43mmodel_fields\u001b[49m\n\u001b[1;32m    215\u001b[0m \u001b[43m\u001b[49m\u001b[43m)\u001b[49m\n\u001b[1;32m    217\u001b[0m \u001b[38;5;66;03m# Add the to_dict method to the model\u001b[39;00m\n\u001b[1;32m    218\u001b[0m dynamic_model\u001b[38;5;241m.\u001b[39mto_dict \u001b[38;5;241m=\u001b[39m to_dict\n",
            "File \u001b[0;32m~/Documents/BOOST/venv/lib/python3.10/site-packages/pydantic/main.py:1763\u001b[0m, in \u001b[0;36mcreate_model\u001b[0;34m(model_name, __config__, __doc__, __base__, __module__, __validators__, __cls_kwargs__, **field_definitions)\u001b[0m\n\u001b[1;32m   1760\u001b[0m     ns[\u001b[38;5;124m'\u001b[39m\u001b[38;5;124m__orig_bases__\u001b[39m\u001b[38;5;124m'\u001b[39m] \u001b[38;5;241m=\u001b[39m __base__\n\u001b[1;32m   1761\u001b[0m namespace\u001b[38;5;241m.\u001b[39mupdate(ns)\n\u001b[0;32m-> 1763\u001b[0m \u001b[38;5;28;01mreturn\u001b[39;00m \u001b[43mmeta\u001b[49m\u001b[43m(\u001b[49m\n\u001b[1;32m   1764\u001b[0m \u001b[43m    \u001b[49m\u001b[43mmodel_name\u001b[49m\u001b[43m,\u001b[49m\n\u001b[1;32m   1765\u001b[0m \u001b[43m    \u001b[49m\u001b[43mresolved_bases\u001b[49m\u001b[43m,\u001b[49m\n\u001b[1;32m   1766\u001b[0m \u001b[43m    \u001b[49m\u001b[43mnamespace\u001b[49m\u001b[43m,\u001b[49m\n\u001b[1;32m   1767\u001b[0m \u001b[43m    \u001b[49m\u001b[43m__pydantic_reset_parent_namespace__\u001b[49m\u001b[38;5;241;43m=\u001b[39;49m\u001b[38;5;28;43;01mFalse\u001b[39;49;00m\u001b[43m,\u001b[49m\n\u001b[1;32m   1768\u001b[0m \u001b[43m    \u001b[49m\u001b[43m_create_model_module\u001b[49m\u001b[38;5;241;43m=\u001b[39;49m\u001b[38;5;18;43m__module__\u001b[39;49m\u001b[43m,\u001b[49m\n\u001b[1;32m   1769\u001b[0m \u001b[43m    \u001b[49m\u001b[38;5;241;43m*\u001b[39;49m\u001b[38;5;241;43m*\u001b[39;49m\u001b[43mkwds\u001b[49m\u001b[43m,\u001b[49m\n\u001b[1;32m   1770\u001b[0m \u001b[43m\u001b[49m\u001b[43m)\u001b[49m\n",
            "File \u001b[0;32m~/Documents/BOOST/venv/lib/python3.10/site-packages/pydantic/_internal/_model_construction.py:110\u001b[0m, in \u001b[0;36mModelMetaclass.__new__\u001b[0;34m(mcs, cls_name, bases, namespace, __pydantic_generic_metadata__, __pydantic_reset_parent_namespace__, _create_model_module, **kwargs)\u001b[0m\n\u001b[1;32m    107\u001b[0m \u001b[38;5;28;01mif\u001b[39;00m bases:\n\u001b[1;32m    108\u001b[0m     base_field_names, class_vars, base_private_attributes \u001b[38;5;241m=\u001b[39m mcs\u001b[38;5;241m.\u001b[39m_collect_bases_data(bases)\n\u001b[0;32m--> 110\u001b[0m     config_wrapper \u001b[38;5;241m=\u001b[39m \u001b[43mConfigWrapper\u001b[49m\u001b[38;5;241;43m.\u001b[39;49m\u001b[43mfor_model\u001b[49m\u001b[43m(\u001b[49m\u001b[43mbases\u001b[49m\u001b[43m,\u001b[49m\u001b[43m \u001b[49m\u001b[43mnamespace\u001b[49m\u001b[43m,\u001b[49m\u001b[43m \u001b[49m\u001b[43mkwargs\u001b[49m\u001b[43m)\u001b[49m\n\u001b[1;32m    111\u001b[0m     namespace[\u001b[38;5;124m'\u001b[39m\u001b[38;5;124mmodel_config\u001b[39m\u001b[38;5;124m'\u001b[39m] \u001b[38;5;241m=\u001b[39m config_wrapper\u001b[38;5;241m.\u001b[39mconfig_dict\n\u001b[1;32m    112\u001b[0m     private_attributes \u001b[38;5;241m=\u001b[39m inspect_namespace(\n\u001b[1;32m    113\u001b[0m         namespace, config_wrapper\u001b[38;5;241m.\u001b[39mignored_types, class_vars, base_field_names\n\u001b[1;32m    114\u001b[0m     )\n",
            "File \u001b[0;32m~/Documents/BOOST/venv/lib/python3.10/site-packages/pydantic/_internal/_config.py:138\u001b[0m, in \u001b[0;36mConfigWrapper.for_model\u001b[0;34m(cls, bases, namespace, kwargs)\u001b[0m\n\u001b[1;32m    134\u001b[0m     \u001b[38;5;28;01mraise\u001b[39;00m PydanticUserError(\u001b[38;5;124m'\u001b[39m\u001b[38;5;124m\"\u001b[39m\u001b[38;5;124mConfig\u001b[39m\u001b[38;5;124m\"\u001b[39m\u001b[38;5;124m and \u001b[39m\u001b[38;5;124m\"\u001b[39m\u001b[38;5;124mmodel_config\u001b[39m\u001b[38;5;124m\"\u001b[39m\u001b[38;5;124m cannot be used together\u001b[39m\u001b[38;5;124m'\u001b[39m, code\u001b[38;5;241m=\u001b[39m\u001b[38;5;124m'\u001b[39m\u001b[38;5;124mconfig-both\u001b[39m\u001b[38;5;124m'\u001b[39m)\n\u001b[1;32m    136\u001b[0m config_from_namespace \u001b[38;5;241m=\u001b[39m config_dict_from_namespace \u001b[38;5;129;01mor\u001b[39;00m prepare_config(config_class_from_namespace)\n\u001b[0;32m--> 138\u001b[0m \u001b[43mconfig_new\u001b[49m\u001b[38;5;241;43m.\u001b[39;49m\u001b[43mupdate\u001b[49m\u001b[43m(\u001b[49m\u001b[43mconfig_from_namespace\u001b[49m\u001b[43m)\u001b[49m\n\u001b[1;32m    140\u001b[0m \u001b[38;5;28;01mfor\u001b[39;00m k \u001b[38;5;129;01min\u001b[39;00m \u001b[38;5;28mlist\u001b[39m(kwargs\u001b[38;5;241m.\u001b[39mkeys()):\n\u001b[1;32m    141\u001b[0m     \u001b[38;5;28;01mif\u001b[39;00m k \u001b[38;5;129;01min\u001b[39;00m config_keys:\n",
            "\u001b[0;31mTypeError\u001b[0m: 'type' object is not iterable"
          ]
        }
      ],
      "source": [
        "# Initialize BOOST client with schema path\n",
        "client = create_client(schema_path=str(schema_path))\n",
        "\n",
        "# Get schema information\n",
        "schema_info = client.get_schema_info()\n",
        "print(f\"BOOST client initialized\")\n",
        "print(f\"Available entities: {schema_info['available_entities']}\")\n",
        "print(f\"Schema loader: {schema_info['schema_loader']}\")\n",
        "print(f\"Validator: {schema_info['validator']}\")\n",
        "\n",
        "# Get available enum values from schemas\n",
        "try:\n",
        "    org_types = client.get_available_enum_values('organization', 'organizationType')\n",
        "    print(\"\\nOrganization types:\", org_types)\n",
        "except Exception as e:\n",
        "    print(\"\\nCould not get organization types:\", str(e))\n",
        "\n",
        "try:\n",
        "    transaction_statuses = client.get_available_enum_values('transaction', 'transactionStatus')\n",
        "    print(\"\\nTransaction statuses:\", transaction_statuses)\n",
        "except Exception as e:\n",
        "    print(\"\\nCould not get transaction statuses:\", str(e))\n"
      ]
    },
    {
      "cell_type": "code",
      "execution_count": null,
      "metadata": {},
      "outputs": [
        {
          "name": "stdout",
          "output_type": "stream",
          "text": [
            "Organization object type: <class 'pydantic.v1.main.Organization'>\n",
            "Organization object attributes: ['Config', '__abstractmethods__', '__annotations__', '__class__', '__class_vars__', '__config__', '__custom_root_type__', '__delattr__', '__dict__', '__dir__', '__doc__', '__eq__', '__exclude_fields__', '__fields__', '__fields_set__', '__format__', '__ge__', '__get_validators__', '__getattribute__', '__getstate__', '__gt__', '__hash__', '__include_fields__', '__init__', '__init_subclass__', '__iter__', '__json_encoder__', '__le__', '__lt__', '__module__', '__ne__', '__new__', '__post_root_validators__', '__pre_root_validators__', '__pretty__', '__private_attributes__', '__reduce__', '__reduce_ex__', '__repr__', '__repr_args__', '__repr_name__', '__repr_str__', '__rich_repr__', '__schema_cache__', '__setattr__', '__setstate__', '__signature__', '__sizeof__', '__slots__', '__str__', '__subclasshook__', '__try_update_forward_refs__', '__validators__', '_abc_impl', '_calculate_keys', '_copy_and_set_values', '_decompose_class', '_enforce_dict_if_root', '_get_value', '_init_private_attributes', '_iter', 'certifications', 'construct', 'contact_email', 'contact_phone', 'context', 'copy', 'dict', 'equipment_ids', 'established_date', 'facility_capacity', 'from_orm', 'harvest_sites', 'id', 'json', 'last_updated', 'lcfs_registration_id', 'operational_areas', 'operational_status', 'operator_ids', 'organization_id', 'organization_name', 'organization_type', 'parse_file', 'parse_obj', 'parse_raw', 'primary_geographic_data_id', 'regulated_entity_type', 'schema', 'schema_json', 'tax_id', 'to_dict', 'traceable_unit_ids', 'type', 'update_forward_refs', 'validate', 'validate_type', 'website']\n",
            "Has model_dump: False\n",
            "Has dict: True\n",
            "Using dict:\n",
            "{'context': {'boost': 'https://github.com/carbondirect/BOOST/schemas#', 'schema': 'http://schema.org/', 'geo': 'http://www.w3.org/2003/01/geo/wgs84_pos#'}, 'type': 'Organization', 'id': 'https://github.com/carbondirect/BOOST/schemas/organization/ORG-DEBUG-001', 'organization_id': 'ORG-DEBUG-001', 'organization_name': 'Debug Organization', 'organization_type': <OrganizationOrganizationtypeEnum.SUPPLIER: 'supplier'>, 'primary_geographic_data_id': None, 'operational_areas': None, 'equipment_ids': None, 'operator_ids': None, 'harvest_sites': None, 'traceable_unit_ids': None, 'contact_email': None, 'contact_phone': None, 'certifications': None, 'established_date': None, 'tax_id': None, 'website': None, 'lcfs_registration_id': None, 'regulated_entity_type': None, 'facility_capacity': None, 'operational_status': None, 'last_updated': datetime.datetime(2025, 8, 12, 1, 32, 45, 122958)}\n"
          ]
        }
      ],
      "source": [
        "# Add this as a new cell in your notebook to debug the issue\n",
        "import sys\n",
        "import os\n",
        "\n",
        "# First, let's see what type of organization object we're getting\n",
        "try:\n",
        "    # Create an organization\n",
        "    org = client.create_organization(\n",
        "        organization_id=\"ORG-DEBUG-001\",\n",
        "        name=\"Debug Organization\", \n",
        "        org_type=\"supplier\"\n",
        "    )\n",
        "    \n",
        "    print(f\"Organization object type: {type(org)}\")\n",
        "    print(f\"Organization object attributes: {dir(org)}\")\n",
        "    print(f\"Has model_dump: {hasattr(org, 'model_dump')}\")\n",
        "    print(f\"Has dict: {hasattr(org, 'dict')}\")\n",
        "    \n",
        "    # Try to see what the actual object looks like\n",
        "    if hasattr(org, 'model_dump'):\n",
        "        print(\"Using model_dump:\")\n",
        "        print(org.model_dump())\n",
        "    elif hasattr(org, 'dict'):\n",
        "        print(\"Using dict:\")\n",
        "        print(org.dict())\n",
        "    else:\n",
        "        print(\"Neither model_dump nor dict available\")\n",
        "        \n",
        "except Exception as e:\n",
        "    print(f\"Error creating organization: {e}\")\n",
        "    import traceback\n",
        "    traceback.print_exc()"
      ]
    },
    {
      "cell_type": "markdown",
      "metadata": {
        "vscode": {
          "languageId": "raw"
        }
      },
      "source": [
        "## Create and Validate Organizations\n",
        "\n",
        "Let's create the Sherwood Station organization using proper BOOST schema validation with Pydantic v2 features:\n"
      ]
    },
    {
      "cell_type": "code",
      "execution_count": null,
      "metadata": {},
      "outputs": [
        {
          "name": "stdout",
          "output_type": "stream",
          "text": [
            "Generated organization ID: ORG-SHERWOOD-STATION-93BFFAEE\n"
          ]
        },
        {
          "ename": "AttributeError",
          "evalue": "'Organization' object has no attribute 'model_dump'",
          "output_type": "error",
          "traceback": [
            "\u001b[0;31m---------------------------------------------------------------------------\u001b[0m",
            "\u001b[0;31mAttributeError\u001b[0m                            Traceback (most recent call last)",
            "Cell \u001b[0;32mIn[18], line 23\u001b[0m\n\u001b[1;32m      6\u001b[0m sherwood \u001b[38;5;241m=\u001b[39m client\u001b[38;5;241m.\u001b[39mcreate_organization(\n\u001b[1;32m      7\u001b[0m     organization_id\u001b[38;5;241m=\u001b[39morg_id,\n\u001b[1;32m      8\u001b[0m     name\u001b[38;5;241m=\u001b[39m\u001b[38;5;124m\"\u001b[39m\u001b[38;5;124mSherwood Station Power Company\u001b[39m\u001b[38;5;124m\"\u001b[39m,\n\u001b[0;32m   (...)\u001b[0m\n\u001b[1;32m     20\u001b[0m     primaryGeographicDataId\u001b[38;5;241m=\u001b[39m\u001b[38;5;124m\"\u001b[39m\u001b[38;5;124mGEO-SHERWOOD-001\u001b[39m\u001b[38;5;124m\"\u001b[39m\n\u001b[1;32m     21\u001b[0m )\n\u001b[1;32m     22\u001b[0m \u001b[38;5;66;03m# Validate organization using v2 features\u001b[39;00m\n\u001b[0;32m---> 23\u001b[0m validation \u001b[38;5;241m=\u001b[39m \u001b[43mclient\u001b[49m\u001b[38;5;241;43m.\u001b[39;49m\u001b[43mvalidate_entity\u001b[49m\u001b[43m(\u001b[49m\u001b[43msherwood\u001b[49m\u001b[43m)\u001b[49m\n\u001b[1;32m     24\u001b[0m \u001b[38;5;28mprint\u001b[39m(\u001b[38;5;124m\"\u001b[39m\u001b[38;5;130;01m\\n\u001b[39;00m\u001b[38;5;124mOrganization Validation:\u001b[39m\u001b[38;5;124m\"\u001b[39m)\n\u001b[1;32m     25\u001b[0m \u001b[38;5;28;01mif\u001b[39;00m validation[\u001b[38;5;124m'\u001b[39m\u001b[38;5;124mvalid\u001b[39m\u001b[38;5;124m'\u001b[39m]:\n",
            "File \u001b[0;32m~/Documents/BOOST/drafts/current/reference-implementations/python/boost_client.py:298\u001b[0m, in \u001b[0;36mBOOSTClient.validate_entity\u001b[0;34m(self, entity)\u001b[0m\n\u001b[1;32m    296\u001b[0m entity_type \u001b[38;5;241m=\u001b[39m entity\u001b[38;5;241m.\u001b[39mtype\u001b[38;5;241m.\u001b[39mlower()\u001b[38;5;241m.\u001b[39mreplace(\u001b[38;5;124m'\u001b[39m\u001b[38;5;124m \u001b[39m\u001b[38;5;124m'\u001b[39m, \u001b[38;5;124m'\u001b[39m\u001b[38;5;124m_\u001b[39m\u001b[38;5;124m'\u001b[39m)\n\u001b[1;32m    297\u001b[0m \u001b[38;5;66;03m# Fix: Use proper serialization for validation - exclude None values and serialize enums properly\u001b[39;00m\n\u001b[0;32m--> 298\u001b[0m entity_data \u001b[38;5;241m=\u001b[39m \u001b[43mentity\u001b[49m\u001b[38;5;241;43m.\u001b[39;49m\u001b[43mmodel_dump\u001b[49m(by_alias\u001b[38;5;241m=\u001b[39m\u001b[38;5;28;01mTrue\u001b[39;00m, exclude_none\u001b[38;5;241m=\u001b[39m\u001b[38;5;28;01mTrue\u001b[39;00m, mode\u001b[38;5;241m=\u001b[39m\u001b[38;5;124m'\u001b[39m\u001b[38;5;124mjson\u001b[39m\u001b[38;5;124m'\u001b[39m)\n\u001b[1;32m    300\u001b[0m \u001b[38;5;66;03m# Schema validation\u001b[39;00m\n\u001b[1;32m    301\u001b[0m is_valid, schema_errors \u001b[38;5;241m=\u001b[39m \u001b[38;5;28mself\u001b[39m\u001b[38;5;241m.\u001b[39mvalidator\u001b[38;5;241m.\u001b[39mvalidate_entity(entity_type, entity_data)\n",
            "\u001b[0;31mAttributeError\u001b[0m: 'Organization' object has no attribute 'model_dump'"
          ]
        }
      ],
      "source": [
        "# Generate a proper BOOST organization ID\n",
        "org_id = client.generate_id(\"organization\", \"SHERWOOD-STATION\")\n",
        "print(f\"Generated organization ID: {org_id}\")\n",
        "\n",
        "# Create organization using BOOST client with schema validation\n",
        "sherwood = client.create_organization(\n",
        "    organization_id=org_id,\n",
        "    name=\"Sherwood Station Power Company\",\n",
        "    org_type=\"producer\",\n",
        "    contactEmail=\"contact@sherwoodstation.com\",\n",
        "    contactPhone=\"+15551234567\",\n",
        "    regulatedEntityType=\"producer\",\n",
        "    operationalStatus=\"active\",\n",
        "    facilityCapacity={\n",
        "        \"annualCapacity\": 200000,\n",
        "        \"unit\": \"GGE\"\n",
        "    },\n",
        "    establishedDate=\"2020-01-01\",\n",
        "    website=\"https://www.sherwoodstation.com\",\n",
        "    primaryGeographicDataId=\"GEO-SHERWOOD-001\"\n",
        ")\n",
        "# Validate organization using v2 features\n",
        "validation = client.validate_entity(sherwood)\n",
        "print(\"\\nOrganization Validation:\")\n",
        "if validation['valid']:\n",
        "    print(\"Organization validated successfully\")\n",
        "else:\n",
        "    print(\"Validation errors:\", validation['schema_errors'])\n",
        "\n",
        "# Display the organization data\n",
        "org_data = sherwood.dict(by_alias=True)\n",
        "print(\"\\nOrganization data:\")\n",
        "print(json.dumps(org_data, indent=2, default=str))\n"
      ]
    },
    {
      "cell_type": "markdown",
      "metadata": {
        "vscode": {
          "languageId": "raw"
        }
      },
      "source": [
        "## Create Supplier Organizations\n",
        "\n",
        "Let's create the supplier organizations that provide feedstock to Sherwood Station:\n"
      ]
    },
    {
      "cell_type": "code",
      "execution_count": null,
      "metadata": {},
      "outputs": [],
      "source": [
        "# Create supplier organizations\n",
        "suppliers = []\n",
        "\n",
        "supplier_data = [\n",
        "    {\n",
        "        \"name\": \"Anderson Valley Lumber\",\n",
        "        \"suffix\": \"AVL-001\"\n",
        "    },\n",
        "    {\n",
        "        \"name\": \"Sierra Forest Products\",\n",
        "        \"suffix\": \"SFP-001\"\n",
        "    }\n",
        "]\n",
        "\n",
        "for supplier_info in supplier_data:\n",
        "    supplier_id = client.generate_id(\"organization\", supplier_info[\"suffix\"])\n",
        "    supplier = client.create_organization(\n",
        "        organizationId=supplier_id,\n",
        "        organizationName=supplier_info[\"name\"],\n",
        "        organizationType=\"supplier\",  # Biomass suppliers\n",
        "        contactEmail=f\"contact@{supplier_info['suffix'].lower()}.com\",\n",
        "        contactPhone=\"+15551234567\",  # No dashes, follows E.164 format\n",
        "        regulatedEntityType=\"not_regulated\",  # Biomass suppliers aren't regulated parties\n",
        "        operationalStatus=\"active\",\n",
        "        primaryGeographicDataId=f\"GEO-{supplier_info['suffix']}\"  # Reference to supplier location\n",
        "    )\n",
        "    suppliers.append(supplier)\n",
        "    \n",
        "    # Validate supplier using v2 features\n",
        "    validation = client.validate_entity(supplier)\n",
        "    if validation['valid']:\n",
        "        print(f\"Created and validated supplier: {supplier_info['name']} (ID: {supplier_id})\")\n",
        "    else:\n",
        "        print(f\"Validation errors for {supplier_id}:\", validation['schema_errors'])\n",
        "\n",
        "print(f\"\\nCreated {len(suppliers)} supplier organizations\")\n",
        "\n",
        "# Display supplier data\n",
        "print(\"\\nSupplier Organizations:\")\n",
        "for supplier in suppliers:\n",
        "    supplier_data = supplier.dict(by_alias=True)\n",
        "    print(f\"\\n{supplier_data['organizationName']}:\")\n",
        "    print(json.dumps(supplier_data, indent=2, default=str))\n"
      ]
    },
    {
      "cell_type": "markdown",
      "metadata": {
        "vscode": {
          "languageId": "raw"
        }
      },
      "source": [
        "## Create Transactions\n",
        "\n",
        "Let's create transactions between suppliers and Sherwood Station:\n"
      ]
    },
    {
      "cell_type": "code",
      "execution_count": null,
      "metadata": {},
      "outputs": [],
      "source": [
        "# Create one transaction per supplier\n",
        "transactions = []\n",
        "\n",
        "# Average mill waste price for contract value calculation ($/tonne)\n",
        "mill_waste_price = 75.00\n",
        "\n",
        "for i, supplier in enumerate(suppliers):\n",
        "    # Generate transaction ID with proper pattern\n",
        "    txn_id = client.generate_id(\"transaction\", f\"2025-Q1-{i+1:03d}\")\n",
        "    \n",
        "    # Get supplier data\n",
        "    supplier_data = supplier.dict(by_alias=True)\n",
        "    \n",
        "    # Create transaction with proper BOOST fields\n",
        "    transaction = client.create_transaction(\n",
        "        transaction_id=txn_id,\n",
        "        organization_id=supplier_data[\"organizationId\"],  # Biomass supplier\n",
        "        customer_id=org_data[\"organizationId\"],  # Sherwood Station\n",
        "        transaction_date=\"2025-01-15\",\n",
        "        contractValue=37500.00,  # $75/tonne for biomass\n",
        "        contractCurrency=\"USD\",\n",
        "        transactionStatus=\"completed\",\n",
        "        contractTerms=\"FOB\",\n",
        "        paymentTerms=\"Net 30\",\n",
        "        GeographicDataId=supplier_data[\"primaryGeographicDataId\"],  # Where biomass is sourced\n",
        "        expectedDeliveryDate=\"2025-01-20\",\n",
        "        complianceRequirements=[\"RSB_Compliance\"],  # Using RSB for biomass sustainability\n",
        "        reportingPeriod=\"2025-Q1\"\n",
        "    )\n",
        "    transactions.append(transaction)\n",
        "    \n",
        "    # Validate transaction using v2 features\n",
        "    validation = client.validate_entity(transaction)\n",
        "    if validation['valid']:\n",
        "        print(f\"✅ Created and validated transaction {txn_id}\")\n",
        "        # Display transaction data using v2 model_dump\n",
        "        txn_data = transaction.model_dump(by_alias=True)\n",
        "        print(json.dumps(txn_data, indent=2, default=str))\n",
        "    else:\n",
        "        print(f\"❌ Validation errors for {txn_id}:\", validation['schema_errors'])\n",
        "\n",
        "print(f\"\\n📋 Created {len(transactions)} transactions\")\n"
      ]
    },
    {
      "cell_type": "raw",
      "metadata": {
        "vscode": {
          "languageId": "raw"
        }
      },
      "source": [
        "## Export to JSON-LD\n",
        "\n",
        "Let's export all entities to JSON-LD format using Pydantic v2 serialization:\n"
      ]
    },
    {
      "cell_type": "code",
      "execution_count": null,
      "metadata": {},
      "outputs": [],
      "source": [
        "# Export to JSON-LD format\n",
        "print(\"📤 Exporting BOOST data to JSON-LD format...\")\n",
        "jsonld_export = client.export_to_jsonld(include_context=True)\n",
        "\n",
        "# Parse and display summary\n",
        "export_data = json.loads(jsonld_export)\n",
        "entities = export_data.get('@graph', [])\n",
        "\n",
        "print(f\"✅ JSON-LD export completed\")\n",
        "print(f\"Total entities exported: {len(entities)}\")\n",
        "\n",
        "# Count entities by type\n",
        "entity_counts = {}\n",
        "for entity in entities:\n",
        "    entity_type = entity.get('@type', 'Unknown')\n",
        "    entity_counts[entity_type] = entity_counts.get(entity_type, 0) + 1\n",
        "\n",
        "print(\"\\n📊 Exported entities by type:\")\n",
        "for entity_type, count in entity_counts.items():\n",
        "    print(f\"  {entity_type}: {count}\")\n",
        "\n",
        "print(f\"\\n📋 JSON-LD Context:\")\n",
        "print(json.dumps(export_data.get('@context', {}), indent=2))\n"
      ]
    },
    {
      "cell_type": "raw",
      "metadata": {
        "vscode": {
          "languageId": "raw"
        }
      },
      "source": [
        "## Comprehensive Validation\n",
        "\n",
        "Let's validate all entities using the BOOST dynamic validation system:\n"
      ]
    },
    {
      "cell_type": "code",
      "execution_count": null,
      "metadata": {},
      "outputs": [],
      "source": [
        "# Run comprehensive validation\n",
        "print(\"🔍 Running comprehensive BOOST validation...\")\n",
        "validation_results = client.validate_all()\n",
        "\n",
        "if validation_results['valid']:\n",
        "    print(\"✅ All entities pass BOOST schema and business logic validation!\")\n",
        "    \n",
        "    # Display validation summary\n",
        "    print(\"\\n📊 Validation Summary:\")\n",
        "    print(f\"Total organizations: {len(client.organizations)}\")\n",
        "    print(f\"Total transactions: {len(client.transactions)}\")\n",
        "    print(f\"Schema validation: ✅ PASSED\")\n",
        "    print(f\"Business logic validation: ✅ PASSED\")\n",
        "    \n",
        "else:\n",
        "    print(\"❌ Validation errors found:\")\n",
        "    for error in validation_results['errors']:\n",
        "        print(f\"  - {error}\")\n",
        "    \n",
        "    # Display individual entity results\n",
        "    if 'entity_results' in validation_results:\n",
        "        for entity_type, results in validation_results['entity_results'].items():\n",
        "            if not results.get('valid', True):\n",
        "                print(f\"\\n❌ {entity_type.title()} validation errors:\")\n",
        "                for error in results.get('errors', []):\n",
        "                    print(f\"    {error}\")\n",
        "\n",
        "# Save the validated data\n",
        "output_dir = Path(\"data\")\n",
        "output_dir.mkdir(exist_ok=True)\n",
        "\n",
        "# Save organization data\n",
        "org_file = output_dir / \"sherwood_station_organization.json\"\n",
        "with open(org_file, 'w') as f:\n",
        "    json.dump(org_data, f, indent=2, default=str)\n",
        "print(f\"\\n✅ Saved organization data: {org_file}\")\n",
        "\n",
        "# Save supplier organizations\n",
        "suppliers_data = [s.dict(by_alias=True) for s in suppliers]\n",
        "suppliers_file = output_dir / \"supplier_organizations.json\"\n",
        "with open(suppliers_file, 'w') as f:\n",
        "    json.dump(suppliers_data, f, indent=2, default=str)\n",
        "print(f\"✅ Saved supplier data: {suppliers_file}\")\n",
        "\n",
        "# Save transactions\n",
        "transactions_data = [t.dict(by_alias=True) for t in transactions]\n",
        "transactions_file = output_dir / \"transactions.json\"\n",
        "with open(transactions_file, 'w') as f:\n",
        "    json.dump(transactions_data, f, indent=2, default=str)\n",
        "print(f\"✅ Saved transaction data: {transactions_file}\")\n",
        "\n",
        "# Save complete JSON-LD export\n",
        "jsonld_file = output_dir / \"complete_export.jsonld\"\n",
        "with open(jsonld_file, 'w') as f:\n",
        "    f.write(jsonld_export)\n",
        "print(f\"✅ Saved JSON-LD export: {jsonld_file}\")\n"
      ]
    }
  ],
  "metadata": {
    "kernelspec": {
      "display_name": "venv",
      "language": "python",
      "name": "python3"
    },
    "language_info": {
      "codemirror_mode": {
        "name": "ipython",
        "version": 3
      },
      "file_extension": ".py",
      "mimetype": "text/x-python",
      "name": "python",
      "nbconvert_exporter": "python",
      "pygments_lexer": "ipython3",
      "version": "3.10.9"
    }
  },
  "nbformat": 4,
  "nbformat_minor": 2
}
