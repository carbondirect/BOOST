{
  "cells": [
    {
      "cell_type": "markdown",
      "metadata": {
        "vscode": {
          "languageId": "raw"
        }
      },
      "source": [
        "# Sherwood Station Power Company BIORAM Example\n",
        "\n",
        "This notebook demonstrates the BIORAM compliance example using the latest BOOST Python reference implementation with Pydantic v2 features:\n",
        "\n",
        "## Key Features\n",
        "\n",
        "- **Schema Compliance**: All entities conform to BOOST core schemas\n",
        "- **Dynamic Validation**: Uses schema-driven validation that adapts to changes\n",
        "- **JSON-LD Support**: Proper semantic web compatibility with `@context`, `@type`, `@id`\n",
        "- **Pydantic v2**: Uses latest Pydantic features for improved validation\n",
        "- **None Field Handling**: Optional fields properly excluded from validation\n",
        "- **ID Pattern Compliance**: Follows BOOST ID conventions (`ORG-*`, `TXN-*`, etc.)\n",
        "- **Comprehensive Validation**: Full validation across all entities\n"
      ]
    },
    {
      "cell_type": "code",
      "execution_count": null,
      "metadata": {},
      "outputs": [],
      "source": [
        "import sys\n",
        "import os\n",
        "import json\n",
        "from datetime import datetime, date\n",
        "from pathlib import Path\n",
        "\n",
        "# Add BOOST Python reference implementation to path\n",
        "boost_python_path = Path(\"../../../../drafts/current/reference-implementations/python\")\n",
        "schema_path = Path(\"../../../../drafts/current/schema\")\n",
        "\n",
        "# Verify paths exist\n",
        "if not boost_python_path.resolve().exists():\n",
        "    raise FileNotFoundError(f\"Python implementation not found at {boost_python_path.resolve()}\")\n",
        "if not schema_path.resolve().exists():\n",
        "    raise FileNotFoundError(f\"Schema directory not found at {schema_path.resolve()}\")\n",
        "\n",
        "sys.path.insert(0, str(boost_python_path.resolve()))\n",
        "\n",
        "# Import BOOST client\n",
        "from boost_client import create_client\n",
        "\n",
        "print(\"✅ BOOST Python reference implementation imported successfully\")\n",
        "print(f\"✅ Schema directory found at {schema_path.resolve()}\")\n"
      ]
    },
    {
      "cell_type": "code",
      "execution_count": null,
      "metadata": {},
      "outputs": [],
      "source": [
        "import sys\n",
        "import os\n",
        "import json\n",
        "\n",
        "# Navigate up from the current notebook directory to find the project root ('BOOST')\n",
        "# This makes the import of boost_client possible\n",
        "try:\n",
        "    # Get the directory of the current notebook\n",
        "    notebook_dir = os.path.dirname(__file__)\n",
        "except NameError:\n",
        "    # If __file__ is not defined (e.g., in interactive environment), use current working directory\n",
        "    notebook_dir = os.getcwd()\n",
        "\n",
        "# Construct the path to the project root by going up the required number of levels\n",
        "project_root = os.path.abspath(os.path.join(notebook_dir, \"../../../..\"))\n",
        "\n",
        "# Add the project root and the specific reference implementation path to sys.path\n",
        "reference_implementation_path = os.path.join(project_root, \"drafts/current/reference-implementations/python\")\n",
        "\n",
        "if project_root not in sys.path:\n",
        "    sys.path.insert(0, project_root)\n",
        "if reference_implementation_path not in sys.path:\n",
        "    sys.path.insert(0, reference_implementation_path)\n",
        "\n",
        "# Now the import should work correctly\n",
        "from boost_client import BOOSTClient\n",
        "from models import OrganizationType\n",
        "\n",
        "print(f\"Successfully imported BOOSTClient from: {project_root}\")\n"
      ]
    },
    {
      "cell_type": "code",
      "execution_count": null,
      "metadata": {},
      "outputs": [],
      "source": [
        "# Initialize BOOST client with schema path\n",
        "client = create_client(schema_path=str(schema_path))\n",
        "\n",
        "# Get schema information\n",
        "schema_info = client.get_schema_info()\n",
        "print(f\"BOOST client initialized\")\n",
        "print(f\"Available entities: {schema_info['available_entities']}\")\n",
        "print(f\"Schema loader: {schema_info['schema_loader']}\")\n",
        "print(f\"Validator: {schema_info['validator']}\")\n",
        "\n",
        "# Get available enum values from schemas\n",
        "try:\n",
        "    org_types = client.get_available_enum_values('organization', 'organizationType')\n",
        "    print(\"\\nOrganization types:\", org_types)\n",
        "except Exception as e:\n",
        "    print(\"\\nCould not get organization types:\", str(e))\n",
        "\n",
        "try:\n",
        "    transaction_statuses = client.get_available_enum_values('transaction', 'transactionStatus')\n",
        "    print(\"\\nTransaction statuses:\", transaction_statuses)\n",
        "except Exception as e:\n",
        "    print(\"\\nCould not get transaction statuses:\", str(e))\n"
      ]
    },
    {
      "cell_type": "code",
      "execution_count": null,
      "metadata": {},
      "outputs": [],
      "source": [
        "# Add this as a new cell in your notebook to debug the issue\n",
        "import sys\n",
        "import os\n",
        "\n",
        "# First, let's see what type of organization object we're getting\n",
        "try:\n",
        "    # Create an organization\n",
        "    org = client.create_organization(\n",
        "        organization_id=\"ORG-DEBUG-001\",\n",
        "        name=\"Debug Organization\", \n",
        "        org_type=\"supplier\"\n",
        "    )\n",
        "    \n",
        "    print(f\"Organization object type: {type(org)}\")\n",
        "    print(f\"Organization object attributes: {dir(org)}\")\n",
        "    print(f\"Has model_dump: {hasattr(org, 'model_dump')}\")\n",
        "    print(f\"Has dict: {hasattr(org, 'dict')}\")\n",
        "    \n",
        "    # Try to see what the actual object looks like\n",
        "    if hasattr(org, 'model_dump'):\n",
        "        print(\"Using model_dump:\")\n",
        "        print(org.model_dump())\n",
        "    elif hasattr(org, 'dict'):\n",
        "        print(\"Using dict:\")\n",
        "        print(org.dict())\n",
        "    else:\n",
        "        print(\"Neither model_dump nor dict available\")\n",
        "        \n",
        "except Exception as e:\n",
        "    print(f\"Error creating organization: {e}\")\n",
        "    import traceback\n",
        "    traceback.print_exc()"
      ]
    },
    {
      "cell_type": "markdown",
      "metadata": {
        "vscode": {
          "languageId": "raw"
        }
      },
      "source": [
        "## Create and Validate Organizations\n",
        "\n",
        "Let's create the Sherwood Station organization using proper BOOST schema validation with Pydantic v2 features:\n"
      ]
    },
    {
      "cell_type": "code",
      "execution_count": null,
      "metadata": {},
      "outputs": [],
      "source": [
        "# Generate a proper BOOST organization ID\n",
        "org_id = client.generate_id(\"organization\", \"SHERWOOD-STATION\")\n",
        "print(f\"Generated organization ID: {org_id}\")\n",
        "\n",
        "# Create organization using BOOST client with schema validation\n",
        "sherwood = client.create_organization(\n",
        "    organization_id=org_id,\n",
        "    name=\"Sherwood Station Power Company\",\n",
        "    org_type=\"producer\",\n",
        "    contactEmail=\"contact@sherwoodstation.com\",\n",
        "    contactPhone=\"+15551234567\",\n",
        "    regulatedEntityType=\"producer\",\n",
        "    operationalStatus=\"active\",\n",
        "    facilityCapacity={\n",
        "        \"annualCapacity\": 200000,\n",
        "        \"unit\": \"GGE\"\n",
        "    },\n",
        "    establishedDate=\"2020-01-01\",\n",
        "    website=\"https://www.sherwoodstation.com\",\n",
        "    primaryGeographicDataId=\"GEO-SHERWOOD-001\"\n",
        ")\n",
        "# Validate organization using v2 features\n",
        "validation = client.validate_entity(sherwood)\n",
        "print(\"\\nOrganization Validation:\")\n",
        "if validation['valid']:\n",
        "    print(\"Organization validated successfully\")\n",
        "else:\n",
        "    print(\"Validation errors:\", validation['schema_errors'])\n",
        "\n",
        "# Display the organization data\n",
        "org_data = sherwood.dict(by_alias=True)\n",
        "print(\"\\nOrganization data:\")\n",
        "print(json.dumps(org_data, indent=2, default=str))\n"
      ]
    },
    {
      "cell_type": "markdown",
      "metadata": {
        "vscode": {
          "languageId": "raw"
        }
      },
      "source": [
        "## Create Supplier Organizations\n",
        "\n",
        "Let's create the supplier organizations that provide feedstock to Sherwood Station:\n"
      ]
    },
    {
      "cell_type": "code",
      "execution_count": null,
      "metadata": {},
      "outputs": [],
      "source": [
        "# Create supplier organizations\n",
        "suppliers = []\n",
        "\n",
        "supplier_data = [\n",
        "    {\n",
        "        \"name\": \"Anderson Valley Lumber\",\n",
        "        \"suffix\": \"AVL-001\"\n",
        "    },\n",
        "    {\n",
        "        \"name\": \"Sierra Forest Products\",\n",
        "        \"suffix\": \"SFP-001\"\n",
        "    }\n",
        "]\n",
        "\n",
        "for supplier_info in supplier_data:\n",
        "    supplier_id = client.generate_id(\"organization\", supplier_info[\"suffix\"])\n",
        "    supplier = client.create_organization(\n",
        "        organizationId=supplier_id,\n",
        "        organizationName=supplier_info[\"name\"],\n",
        "        organizationType=\"supplier\",  # Biomass suppliers\n",
        "        contactEmail=f\"contact@{supplier_info['suffix'].lower()}.com\",\n",
        "        contactPhone=\"+15551234567\",  # No dashes, follows E.164 format\n",
        "        regulatedEntityType=\"not_regulated\",  # Biomass suppliers aren't regulated parties\n",
        "        operationalStatus=\"active\",\n",
        "        primaryGeographicDataId=f\"GEO-{supplier_info['suffix']}\"  # Reference to supplier location\n",
        "    )\n",
        "    suppliers.append(supplier)\n",
        "    \n",
        "    # Validate supplier using v2 features\n",
        "    validation = client.validate_entity(supplier)\n",
        "    if validation['valid']:\n",
        "        print(f\"Created and validated supplier: {supplier_info['name']} (ID: {supplier_id})\")\n",
        "    else:\n",
        "        print(f\"Validation errors for {supplier_id}:\", validation['schema_errors'])\n",
        "\n",
        "print(f\"\\nCreated {len(suppliers)} supplier organizations\")\n",
        "\n",
        "# Display supplier data\n",
        "print(\"\\nSupplier Organizations:\")\n",
        "for supplier in suppliers:\n",
        "    supplier_data = supplier.dict(by_alias=True)\n",
        "    print(f\"\\n{supplier_data['organizationName']}:\")\n",
        "    print(json.dumps(supplier_data, indent=2, default=str))\n"
      ]
    },
    {
      "cell_type": "markdown",
      "metadata": {
        "vscode": {
          "languageId": "raw"
        }
      },
      "source": [
        "## Create Transactions\n",
        "\n",
        "Let's create transactions between suppliers and Sherwood Station:\n"
      ]
    },
    {
      "cell_type": "code",
      "execution_count": null,
      "metadata": {},
      "outputs": [],
      "source": [
        "# Create one transaction per supplier\n",
        "transactions = []\n",
        "\n",
        "# Average mill waste price for contract value calculation ($/tonne)\n",
        "mill_waste_price = 75.00\n",
        "\n",
        "for i, supplier in enumerate(suppliers):\n",
        "    # Generate transaction ID with proper pattern\n",
        "    txn_id = client.generate_id(\"transaction\", f\"2025-Q1-{i+1:03d}\")\n",
        "    \n",
        "    # Get supplier data\n",
        "    supplier_data = supplier.dict(by_alias=True)\n",
        "    \n",
        "    # Create transaction with proper BOOST fields\n",
        "    transaction = client.create_transaction(\n",
        "        transaction_id=txn_id,\n",
        "        organization_id=supplier_data[\"organizationId\"],  # Biomass supplier\n",
        "        customer_id=org_data[\"organizationId\"],  # Sherwood Station\n",
        "        transaction_date=\"2025-01-15\",\n",
        "        contractValue=37500.00,  # $75/tonne for biomass\n",
        "        contractCurrency=\"USD\",\n",
        "        transactionStatus=\"completed\",\n",
        "        contractTerms=\"FOB\",\n",
        "        paymentTerms=\"Net 30\",\n",
        "        GeographicDataId=supplier_data[\"primaryGeographicDataId\"],  # Where biomass is sourced\n",
        "        expectedDeliveryDate=\"2025-01-20\",\n",
        "        complianceRequirements=[\"RSB_Compliance\"],  # Using RSB for biomass sustainability\n",
        "        reportingPeriod=\"2025-Q1\"\n",
        "    )\n",
        "    transactions.append(transaction)\n",
        "    \n",
        "    # Validate transaction using v2 features\n",
        "    validation = client.validate_entity(transaction)\n",
        "    if validation['valid']:\n",
        "        print(f\"✅ Created and validated transaction {txn_id}\")\n",
        "        # Display transaction data using v2 model_dump\n",
        "        txn_data = transaction.model_dump(by_alias=True)\n",
        "        print(json.dumps(txn_data, indent=2, default=str))\n",
        "    else:\n",
        "        print(f\"❌ Validation errors for {txn_id}:\", validation['schema_errors'])\n",
        "\n",
        "print(f\"\\n📋 Created {len(transactions)} transactions\")\n"
      ]
    },
    {
      "cell_type": "raw",
      "metadata": {
        "vscode": {
          "languageId": "raw"
        }
      },
      "source": [
        "## Export to JSON-LD\n",
        "\n",
        "Let's export all entities to JSON-LD format using Pydantic v2 serialization:\n"
      ]
    },
    {
      "cell_type": "code",
      "execution_count": null,
      "metadata": {},
      "outputs": [],
      "source": [
        "# Export to JSON-LD format\n",
        "print(\"📤 Exporting BOOST data to JSON-LD format...\")\n",
        "jsonld_export = client.export_to_jsonld(include_context=True)\n",
        "\n",
        "# Parse and display summary\n",
        "export_data = json.loads(jsonld_export)\n",
        "entities = export_data.get('@graph', [])\n",
        "\n",
        "print(f\"✅ JSON-LD export completed\")\n",
        "print(f\"Total entities exported: {len(entities)}\")\n",
        "\n",
        "# Count entities by type\n",
        "entity_counts = {}\n",
        "for entity in entities:\n",
        "    entity_type = entity.get('@type', 'Unknown')\n",
        "    entity_counts[entity_type] = entity_counts.get(entity_type, 0) + 1\n",
        "\n",
        "print(\"\\n📊 Exported entities by type:\")\n",
        "for entity_type, count in entity_counts.items():\n",
        "    print(f\"  {entity_type}: {count}\")\n",
        "\n",
        "print(f\"\\n📋 JSON-LD Context:\")\n",
        "print(json.dumps(export_data.get('@context', {}), indent=2))\n"
      ]
    },
    {
      "cell_type": "raw",
      "metadata": {
        "vscode": {
          "languageId": "raw"
        }
      },
      "source": [
        "## Comprehensive Validation\n",
        "\n",
        "Let's validate all entities using the BOOST dynamic validation system:\n"
      ]
    },
    {
      "cell_type": "code",
      "execution_count": null,
      "metadata": {},
      "outputs": [],
      "source": [
        "# Run comprehensive validation\n",
        "print(\"🔍 Running comprehensive BOOST validation...\")\n",
        "validation_results = client.validate_all()\n",
        "\n",
        "if validation_results['valid']:\n",
        "    print(\"✅ All entities pass BOOST schema and business logic validation!\")\n",
        "    \n",
        "    # Display validation summary\n",
        "    print(\"\\n📊 Validation Summary:\")\n",
        "    print(f\"Total organizations: {len(client.organizations)}\")\n",
        "    print(f\"Total transactions: {len(client.transactions)}\")\n",
        "    print(f\"Schema validation: ✅ PASSED\")\n",
        "    print(f\"Business logic validation: ✅ PASSED\")\n",
        "    \n",
        "else:\n",
        "    print(\"❌ Validation errors found:\")\n",
        "    for error in validation_results['errors']:\n",
        "        print(f\"  - {error}\")\n",
        "    \n",
        "    # Display individual entity results\n",
        "    if 'entity_results' in validation_results:\n",
        "        for entity_type, results in validation_results['entity_results'].items():\n",
        "            if not results.get('valid', True):\n",
        "                print(f\"\\n❌ {entity_type.title()} validation errors:\")\n",
        "                for error in results.get('errors', []):\n",
        "                    print(f\"    {error}\")\n",
        "\n",
        "# Save the validated data\n",
        "output_dir = Path(\"data\")\n",
        "output_dir.mkdir(exist_ok=True)\n",
        "\n",
        "# Save organization data\n",
        "org_file = output_dir / \"sherwood_station_organization.json\"\n",
        "with open(org_file, 'w') as f:\n",
        "    json.dump(org_data, f, indent=2, default=str)\n",
        "print(f\"\\n✅ Saved organization data: {org_file}\")\n",
        "\n",
        "# Save supplier organizations\n",
        "suppliers_data = [s.dict(by_alias=True) for s in suppliers]\n",
        "suppliers_file = output_dir / \"supplier_organizations.json\"\n",
        "with open(suppliers_file, 'w') as f:\n",
        "    json.dump(suppliers_data, f, indent=2, default=str)\n",
        "print(f\"✅ Saved supplier data: {suppliers_file}\")\n",
        "\n",
        "# Save transactions\n",
        "transactions_data = [t.dict(by_alias=True) for t in transactions]\n",
        "transactions_file = output_dir / \"transactions.json\"\n",
        "with open(transactions_file, 'w') as f:\n",
        "    json.dump(transactions_data, f, indent=2, default=str)\n",
        "print(f\"✅ Saved transaction data: {transactions_file}\")\n",
        "\n",
        "# Save complete JSON-LD export\n",
        "jsonld_file = output_dir / \"complete_export.jsonld\"\n",
        "with open(jsonld_file, 'w') as f:\n",
        "    f.write(jsonld_export)\n",
        "print(f\"✅ Saved JSON-LD export: {jsonld_file}\")\n"
      ]
    }
  ],
  "metadata": {
    "kernelspec": {
      "display_name": "venv",
      "language": "python",
      "name": "python3"
    },
    "language_info": {
      "codemirror_mode": {
        "name": "ipython",
        "version": 3
      },
      "file_extension": ".py",
      "mimetype": "text/x-python",
      "name": "python",
      "nbconvert_exporter": "python",
      "pygments_lexer": "ipython3",
      "version": "3.10.9"
    }
  },
  "nbformat": 4,
  "nbformat_minor": 2
}
