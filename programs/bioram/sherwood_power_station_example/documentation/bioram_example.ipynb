{
  "cells": [
    {
      "cell_type": "markdown",
      "metadata": {
        "vscode": {
          "languageId": "raw"
        }
      },
      "source": [
        "# Sherwood Station Power Company BIORAM Example\n",
        "\n",
        "This notebook demonstrates the BIORAM compliance example using the latest BOOST Python reference implementation with Pydantic v2 features:\n",
        "\n",
        "## Key Features\n",
        "\n",
        "- **Schema Compliance**: All entities conform to BOOST core schemas\n",
        "- **Dynamic Validation**: Uses schema-driven validation that adapts to changes\n",
        "- **JSON-LD Support**: Proper semantic web compatibility with `@context`, `@type`, `@id`\n",
        "- **Pydantic v2**: Uses latest Pydantic features for improved validation\n",
        "- **None Field Handling**: Optional fields properly excluded from validation\n",
        "- **ID Pattern Compliance**: Follows BOOST ID conventions (`ORG-*`, `TXN-*`, etc.)\n",
        "- **Comprehensive Validation**: Full validation across all entities\n"
      ]
    },
    {
      "cell_type": "code",
      "execution_count": 7,
      "metadata": {},
      "outputs": [
        {
          "name": "stdout",
          "output_type": "stream",
          "text": [
            "✅ BOOST Python reference implementation imported successfully\n",
            "✅ Schema directory found at /Users/lkilroy/Documents/BOOST/drafts/current/schema\n"
          ]
        }
      ],
      "source": [
        "import sys\n",
        "import os\n",
        "import json\n",
        "from datetime import datetime, date\n",
        "from pathlib import Path\n",
        "\n",
        "# Add BOOST Python reference implementation to path\n",
        "boost_python_path = Path(\"../../../../drafts/current/reference-implementations/python\")\n",
        "schema_path = Path(\"../../../../drafts/current/schema\")\n",
        "\n",
        "# Verify paths exist\n",
        "if not boost_python_path.resolve().exists():\n",
        "    raise FileNotFoundError(f\"Python implementation not found at {boost_python_path.resolve()}\")\n",
        "if not schema_path.resolve().exists():\n",
        "    raise FileNotFoundError(f\"Schema directory not found at {schema_path.resolve()}\")\n",
        "\n",
        "sys.path.insert(0, str(boost_python_path.resolve()))\n",
        "\n",
        "# Import BOOST client\n",
        "from boost_client import create_client\n",
        "\n",
        "print(\"✅ BOOST Python reference implementation imported successfully\")\n",
        "print(f\"✅ Schema directory found at {schema_path.resolve()}\")\n"
      ]
    },
    {
      "cell_type": "code",
      "execution_count": 8,
      "metadata": {},
      "outputs": [
        {
          "name": "stdout",
          "output_type": "stream",
          "text": [
            "✅ BOOST client initialized\n",
            "Available entities: ['organization', 'processing_history', 'transaction', 'supply_base', 'transaction_batch', 'energy_carbon_data', 'data_reconciliation', 'certificate', 'material_processing', 'traceable_unit', 'geographic_data', 'lcfs_reporting', 'tracking_point', 'certification_body', 'supply_base_report', 'certification_scheme', 'audit', 'supplier', 'biometric_identifier', 'species_component', 'mass_balance_account', 'location_history', 'sales_delivery_document', 'verification_statement', 'lcfs_pathway', 'measurement_record', 'equipment', 'material', 'moisture_content', 'product_group', 'operator', 'customer', 'claim']\n",
            "Schema loader: SchemaLoader\n",
            "Validator: DynamicBOOSTValidator\n",
            "\n",
            "Organization types: ['harvester', 'processor', 'certifier', 'transporter', 'supplier', 'manufacturer', 'producer', 'importer', 'blender', 'distributor']\n",
            "\n",
            "Transaction statuses: ['pending', 'confirmed', 'delivered', 'completed', 'cancelled', 'disputed']\n"
          ]
        }
      ],
      "source": [
        "# Initialize BOOST client with schema path\n",
        "client = create_client(schema_path=str(schema_path))\n",
        "\n",
        "# Get schema information\n",
        "schema_info = client.get_schema_info()\n",
        "print(f\"✅ BOOST client initialized\")\n",
        "print(f\"Available entities: {schema_info['available_entities']}\")\n",
        "print(f\"Schema loader: {schema_info['schema_loader']}\")\n",
        "print(f\"Validator: {schema_info['validator']}\")\n",
        "\n",
        "# Get available enum values from schemas\n",
        "try:\n",
        "    org_types = client.get_available_enum_values('organization', 'organizationType')\n",
        "    print(\"\\nOrganization types:\", org_types)\n",
        "except Exception as e:\n",
        "    print(\"\\nCould not get organization types:\", str(e))\n",
        "\n",
        "try:\n",
        "    transaction_statuses = client.get_available_enum_values('transaction', 'transactionStatus')\n",
        "    print(\"\\nTransaction statuses:\", transaction_statuses)\n",
        "except Exception as e:\n",
        "    print(\"\\nCould not get transaction statuses:\", str(e))\n"
      ]
    },
    {
      "cell_type": "markdown",
      "metadata": {
        "vscode": {
          "languageId": "raw"
        }
      },
      "source": [
        "## Create and Validate Organizations\n",
        "\n",
        "Let's create the Sherwood Station organization using proper BOOST schema validation with Pydantic v2 features:\n"
      ]
    },
    {
      "cell_type": "code",
      "execution_count": 9,
      "metadata": {},
      "outputs": [
        {
          "name": "stdout",
          "output_type": "stream",
          "text": [
            "Generated organization ID: ORG-SHERWOOD-STATION-A19FF972\n"
          ]
        },
        {
          "ename": "NameError",
          "evalue": "name 'organization_id' is not defined",
          "output_type": "error",
          "traceback": [
            "\u001b[0;31m---------------------------------------------------------------------------\u001b[0m",
            "\u001b[0;31mNameError\u001b[0m                                 Traceback (most recent call last)",
            "Cell \u001b[0;32mIn[9], line 6\u001b[0m\n\u001b[1;32m      3\u001b[0m \u001b[38;5;28mprint\u001b[39m(\u001b[38;5;124mf\u001b[39m\u001b[38;5;124m\"\u001b[39m\u001b[38;5;124mGenerated organization ID: \u001b[39m\u001b[38;5;132;01m{\u001b[39;00morg_id\u001b[38;5;132;01m}\u001b[39;00m\u001b[38;5;124m\"\u001b[39m)\n\u001b[1;32m      5\u001b[0m \u001b[38;5;66;03m# Create organization using BOOST client with schema validation\u001b[39;00m\n\u001b[0;32m----> 6\u001b[0m sherwood \u001b[38;5;241m=\u001b[39m \u001b[43mclient\u001b[49m\u001b[38;5;241;43m.\u001b[39;49m\u001b[43mcreate_organization\u001b[49m\u001b[43m(\u001b[49m\n\u001b[1;32m      7\u001b[0m \u001b[43m    \u001b[49m\u001b[43morganizationId\u001b[49m\u001b[38;5;241;43m=\u001b[39;49m\u001b[43morg_id\u001b[49m\u001b[43m,\u001b[49m\n\u001b[1;32m      8\u001b[0m \u001b[43m    \u001b[49m\u001b[43morganizationName\u001b[49m\u001b[38;5;241;43m=\u001b[39;49m\u001b[38;5;124;43m\"\u001b[39;49m\u001b[38;5;124;43mSherwood Station Power Company\u001b[39;49m\u001b[38;5;124;43m\"\u001b[39;49m\u001b[43m,\u001b[49m\n\u001b[1;32m      9\u001b[0m \u001b[43m    \u001b[49m\u001b[43morganizationType\u001b[49m\u001b[38;5;241;43m=\u001b[39;49m\u001b[38;5;124;43m\"\u001b[39;49m\u001b[38;5;124;43mproducer\u001b[39;49m\u001b[38;5;124;43m\"\u001b[39;49m\u001b[43m,\u001b[49m\n\u001b[1;32m     10\u001b[0m \u001b[43m    \u001b[49m\u001b[43mcontactEmail\u001b[49m\u001b[38;5;241;43m=\u001b[39;49m\u001b[38;5;124;43m\"\u001b[39;49m\u001b[38;5;124;43mcontact@sherwoodstation.com\u001b[39;49m\u001b[38;5;124;43m\"\u001b[39;49m\u001b[43m,\u001b[49m\n\u001b[1;32m     11\u001b[0m \u001b[43m    \u001b[49m\u001b[43mcontactPhone\u001b[49m\u001b[38;5;241;43m=\u001b[39;49m\u001b[38;5;124;43m\"\u001b[39;49m\u001b[38;5;124;43m+15551234567\u001b[39;49m\u001b[38;5;124;43m\"\u001b[39;49m\u001b[43m,\u001b[49m\n\u001b[1;32m     12\u001b[0m \u001b[43m    \u001b[49m\u001b[43mregulatedEntityType\u001b[49m\u001b[38;5;241;43m=\u001b[39;49m\u001b[38;5;124;43m\"\u001b[39;49m\u001b[38;5;124;43mproducer\u001b[39;49m\u001b[38;5;124;43m\"\u001b[39;49m\u001b[43m,\u001b[49m\n\u001b[1;32m     13\u001b[0m \u001b[43m    \u001b[49m\u001b[43moperationalStatus\u001b[49m\u001b[38;5;241;43m=\u001b[39;49m\u001b[38;5;124;43m\"\u001b[39;49m\u001b[38;5;124;43mactive\u001b[39;49m\u001b[38;5;124;43m\"\u001b[39;49m\u001b[43m,\u001b[49m\n\u001b[1;32m     14\u001b[0m \u001b[43m    \u001b[49m\u001b[43mfacilityCapacity\u001b[49m\u001b[38;5;241;43m=\u001b[39;49m\u001b[43m{\u001b[49m\n\u001b[1;32m     15\u001b[0m \u001b[43m        \u001b[49m\u001b[38;5;124;43m\"\u001b[39;49m\u001b[38;5;124;43mannualCapacity\u001b[39;49m\u001b[38;5;124;43m\"\u001b[39;49m\u001b[43m:\u001b[49m\u001b[43m \u001b[49m\u001b[38;5;241;43m200000\u001b[39;49m\u001b[43m,\u001b[49m\n\u001b[1;32m     16\u001b[0m \u001b[43m        \u001b[49m\u001b[38;5;124;43m\"\u001b[39;49m\u001b[38;5;124;43munit\u001b[39;49m\u001b[38;5;124;43m\"\u001b[39;49m\u001b[43m:\u001b[49m\u001b[43m \u001b[49m\u001b[38;5;124;43m\"\u001b[39;49m\u001b[38;5;124;43mGGE\u001b[39;49m\u001b[38;5;124;43m\"\u001b[39;49m\n\u001b[1;32m     17\u001b[0m \u001b[43m    \u001b[49m\u001b[43m}\u001b[49m\u001b[43m,\u001b[49m\n\u001b[1;32m     18\u001b[0m \u001b[43m    \u001b[49m\u001b[43mestablishedDate\u001b[49m\u001b[38;5;241;43m=\u001b[39;49m\u001b[38;5;124;43m\"\u001b[39;49m\u001b[38;5;124;43m2020-01-01\u001b[39;49m\u001b[38;5;124;43m\"\u001b[39;49m\u001b[43m,\u001b[49m\n\u001b[1;32m     19\u001b[0m \u001b[43m    \u001b[49m\u001b[43mwebsite\u001b[49m\u001b[38;5;241;43m=\u001b[39;49m\u001b[38;5;124;43m\"\u001b[39;49m\u001b[38;5;124;43mhttps://www.sherwoodstation.com\u001b[39;49m\u001b[38;5;124;43m\"\u001b[39;49m\u001b[43m,\u001b[49m\n\u001b[1;32m     20\u001b[0m \u001b[43m    \u001b[49m\u001b[43mprimaryGeographicDataId\u001b[49m\u001b[38;5;241;43m=\u001b[39;49m\u001b[38;5;124;43m\"\u001b[39;49m\u001b[38;5;124;43mGEO-SHERWOOD-001\u001b[39;49m\u001b[38;5;124;43m\"\u001b[39;49m\n\u001b[1;32m     21\u001b[0m \u001b[43m)\u001b[49m\n\u001b[1;32m     22\u001b[0m \u001b[38;5;66;03m# Validate organization using v2 features\u001b[39;00m\n\u001b[1;32m     23\u001b[0m validation \u001b[38;5;241m=\u001b[39m client\u001b[38;5;241m.\u001b[39mvalidate_entity(sherwood)\n",
            "File \u001b[0;32m~/Documents/BOOST/drafts/current/reference-implementations/python/boost_client.py:96\u001b[0m, in \u001b[0;36mBOOSTClient.create_organization\u001b[0;34m(self, organizationId, organizationName, organizationType, **kwargs)\u001b[0m\n\u001b[1;32m     93\u001b[0m     \u001b[38;5;28;01mraise\u001b[39;00m \u001b[38;5;167;01mValueError\u001b[39;00m(\u001b[38;5;124m\"\u001b[39m\u001b[38;5;124mOrganization schema not loaded\u001b[39m\u001b[38;5;124m\"\u001b[39m)\n\u001b[1;32m     95\u001b[0m organization \u001b[38;5;241m=\u001b[39m OrganizationModel(\u001b[38;5;241m*\u001b[39m\u001b[38;5;241m*\u001b[39morg_data)\n\u001b[0;32m---> 96\u001b[0m \u001b[38;5;28mself\u001b[39m\u001b[38;5;241m.\u001b[39morganizations[\u001b[43morganization_id\u001b[49m] \u001b[38;5;241m=\u001b[39m organization\n\u001b[1;32m     97\u001b[0m \u001b[38;5;28;01mreturn\u001b[39;00m organization\n",
            "\u001b[0;31mNameError\u001b[0m: name 'organization_id' is not defined"
          ]
        }
      ],
      "source": [
        "# Generate a proper BOOST organization ID\n",
        "org_id = client.generate_id(\"organization\", \"SHERWOOD-STATION\")\n",
        "print(f\"Generated organization ID: {org_id}\")\n",
        "\n",
        "# Create organization using BOOST client with schema validation\n",
        "sherwood = client.create_organization(\n",
        "    organizationId=org_id,\n",
        "    organizationName=\"Sherwood Station Power Company\",\n",
        "    organizationType=\"producer\",\n",
        "    contactEmail=\"contact@sherwoodstation.com\",\n",
        "    contactPhone=\"+15551234567\",\n",
        "    regulatedEntityType=\"producer\",\n",
        "    operationalStatus=\"active\",\n",
        "    facilityCapacity={\n",
        "        \"annualCapacity\": 200000,\n",
        "        \"unit\": \"GGE\"\n",
        "    },\n",
        "    establishedDate=\"2020-01-01\",\n",
        "    website=\"https://www.sherwoodstation.com\",\n",
        "    primaryGeographicDataId=\"GEO-SHERWOOD-001\"\n",
        ")\n",
        "# Validate organization using v2 features\n",
        "validation = client.validate_entity(sherwood)\n",
        "print(\"\\nOrganization Validation:\")\n",
        "if validation['valid']:\n",
        "    print(\"✅ Organization validated successfully\")\n",
        "else:\n",
        "    print(\"❌ Validation errors:\", validation['schema_errors'])\n",
        "\n",
        "# Display the organization data\n",
        "org_data = sherwood.dict(by_alias=True)\n",
        "print(\"\\n📋 Organization data:\")\n",
        "print(json.dumps(org_data, indent=2, default=str))\n"
      ]
    },
    {
      "cell_type": "raw",
      "metadata": {
        "vscode": {
          "languageId": "raw"
        }
      },
      "source": [
        "## Create Supplier Organizations\n",
        "\n",
        "Let's create the supplier organizations that provide feedstock to Sherwood Station:\n"
      ]
    },
    {
      "cell_type": "code",
      "execution_count": null,
      "metadata": {},
      "outputs": [],
      "source": [
        "# Create supplier organizations\n",
        "suppliers = []\n",
        "\n",
        "supplier_data = [\n",
        "    {\n",
        "        \"name\": \"Anderson Valley Lumber\",\n",
        "        \"suffix\": \"AVL-001\"\n",
        "    },\n",
        "    {\n",
        "        \"name\": \"Sierra Forest Products\",\n",
        "        \"suffix\": \"SFP-001\"\n",
        "    }\n",
        "]\n",
        "\n",
        "for supplier_info in supplier_data:\n",
        "    supplier_id = client.generate_id(\"organization\", supplier_info[\"suffix\"])\n",
        "    supplier = client.create_organization(\n",
        "        organizationId=supplier_id,\n",
        "        organizationName=supplier_info[\"name\"],\n",
        "        organizationType=\"supplier\",  # Biomass suppliers\n",
        "        contactEmail=f\"contact@{supplier_info['suffix'].lower()}.com\",\n",
        "        contactPhone=\"+15551234567\",  # No dashes, follows E.164 format\n",
        "        regulatedEntityType=\"not_regulated\",  # Biomass suppliers aren't regulated parties\n",
        "        operationalStatus=\"active\",\n",
        "        primaryGeographicDataId=f\"GEO-{supplier_info['suffix']}\"  # Reference to supplier location\n",
        "    )\n",
        "    suppliers.append(supplier)\n",
        "    \n",
        "    # Validate supplier using v2 features\n",
        "    validation = client.validate_entity(supplier)\n",
        "    if validation['valid']:\n",
        "        print(f\"✅ Created and validated supplier: {supplier_info['name']} (ID: {supplier_id})\")\n",
        "    else:\n",
        "        print(f\"❌ Validation errors for {supplier_id}:\", validation['schema_errors'])\n",
        "\n",
        "print(f\"\\n📋 Created {len(suppliers)} supplier organizations\")\n",
        "\n",
        "# Display supplier data\n",
        "print(\"\\nSupplier Organizations:\")\n",
        "for supplier in suppliers:\n",
        "    supplier_data = supplier.dict(by_alias=True)\n",
        "    print(f\"\\n{supplier_data['organizationName']}:\")\n",
        "    print(json.dumps(supplier_data, indent=2, default=str))\n"
      ]
    },
    {
      "cell_type": "raw",
      "metadata": {
        "vscode": {
          "languageId": "raw"
        }
      },
      "source": [
        "## Create Transactions\n",
        "\n",
        "Let's create transactions between suppliers and Sherwood Station:\n"
      ]
    },
    {
      "cell_type": "code",
      "execution_count": null,
      "metadata": {},
      "outputs": [],
      "source": [
        "# Create one transaction per supplier\n",
        "transactions = []\n",
        "\n",
        "# Average mill waste price for contract value calculation ($/tonne)\n",
        "mill_waste_price = 75.00\n",
        "\n",
        "for i, supplier in enumerate(suppliers):\n",
        "    # Generate transaction ID with proper pattern\n",
        "    txn_id = client.generate_id(\"transaction\", f\"2025-Q1-{i+1:03d}\")\n",
        "    \n",
        "    # Get supplier data\n",
        "    supplier_data = supplier.dict(by_alias=True)\n",
        "    \n",
        "    # Create transaction with proper BOOST fields\n",
        "    transaction = client.create_transaction(\n",
        "        transaction_id=txn_id,\n",
        "        organization_id=supplier_data[\"organizationId\"],  # Biomass supplier\n",
        "        customer_id=org_data[\"organizationId\"],  # Sherwood Station\n",
        "        transaction_date=\"2025-01-15\",\n",
        "        contractValue=37500.00,  # $75/tonne for biomass\n",
        "        contractCurrency=\"USD\",\n",
        "        transactionStatus=\"completed\",\n",
        "        contractTerms=\"FOB\",\n",
        "        paymentTerms=\"Net 30\",\n",
        "        GeographicDataId=supplier_data[\"primaryGeographicDataId\"],  # Where biomass is sourced\n",
        "        expectedDeliveryDate=\"2025-01-20\",\n",
        "        complianceRequirements=[\"RSB_Compliance\"],  # Using RSB for biomass sustainability\n",
        "        reportingPeriod=\"2025-Q1\"\n",
        "    )\n",
        "    transactions.append(transaction)\n",
        "    \n",
        "    # Validate transaction using v2 features\n",
        "    validation = client.validate_entity(transaction)\n",
        "    if validation['valid']:\n",
        "        print(f\"✅ Created and validated transaction {txn_id}\")\n",
        "        # Display transaction data using v2 model_dump\n",
        "        txn_data = transaction.model_dump(by_alias=True)\n",
        "        print(json.dumps(txn_data, indent=2, default=str))\n",
        "    else:\n",
        "        print(f\"❌ Validation errors for {txn_id}:\", validation['schema_errors'])\n",
        "\n",
        "print(f\"\\n📋 Created {len(transactions)} transactions\")\n"
      ]
    },
    {
      "cell_type": "raw",
      "metadata": {
        "vscode": {
          "languageId": "raw"
        }
      },
      "source": [
        "## Export to JSON-LD\n",
        "\n",
        "Let's export all entities to JSON-LD format using Pydantic v2 serialization:\n"
      ]
    },
    {
      "cell_type": "code",
      "execution_count": null,
      "metadata": {},
      "outputs": [],
      "source": [
        "# Export to JSON-LD format\n",
        "print(\"📤 Exporting BOOST data to JSON-LD format...\")\n",
        "jsonld_export = client.export_to_jsonld(include_context=True)\n",
        "\n",
        "# Parse and display summary\n",
        "export_data = json.loads(jsonld_export)\n",
        "entities = export_data.get('@graph', [])\n",
        "\n",
        "print(f\"✅ JSON-LD export completed\")\n",
        "print(f\"Total entities exported: {len(entities)}\")\n",
        "\n",
        "# Count entities by type\n",
        "entity_counts = {}\n",
        "for entity in entities:\n",
        "    entity_type = entity.get('@type', 'Unknown')\n",
        "    entity_counts[entity_type] = entity_counts.get(entity_type, 0) + 1\n",
        "\n",
        "print(\"\\n📊 Exported entities by type:\")\n",
        "for entity_type, count in entity_counts.items():\n",
        "    print(f\"  {entity_type}: {count}\")\n",
        "\n",
        "print(f\"\\n📋 JSON-LD Context:\")\n",
        "print(json.dumps(export_data.get('@context', {}), indent=2))\n"
      ]
    },
    {
      "cell_type": "raw",
      "metadata": {
        "vscode": {
          "languageId": "raw"
        }
      },
      "source": [
        "## Comprehensive Validation\n",
        "\n",
        "Let's validate all entities using the BOOST dynamic validation system:\n"
      ]
    },
    {
      "cell_type": "code",
      "execution_count": null,
      "metadata": {},
      "outputs": [],
      "source": [
        "# Run comprehensive validation\n",
        "print(\"🔍 Running comprehensive BOOST validation...\")\n",
        "validation_results = client.validate_all()\n",
        "\n",
        "if validation_results['valid']:\n",
        "    print(\"✅ All entities pass BOOST schema and business logic validation!\")\n",
        "    \n",
        "    # Display validation summary\n",
        "    print(\"\\n📊 Validation Summary:\")\n",
        "    print(f\"Total organizations: {len(client.organizations)}\")\n",
        "    print(f\"Total transactions: {len(client.transactions)}\")\n",
        "    print(f\"Schema validation: ✅ PASSED\")\n",
        "    print(f\"Business logic validation: ✅ PASSED\")\n",
        "    \n",
        "else:\n",
        "    print(\"❌ Validation errors found:\")\n",
        "    for error in validation_results['errors']:\n",
        "        print(f\"  - {error}\")\n",
        "    \n",
        "    # Display individual entity results\n",
        "    if 'entity_results' in validation_results:\n",
        "        for entity_type, results in validation_results['entity_results'].items():\n",
        "            if not results.get('valid', True):\n",
        "                print(f\"\\n❌ {entity_type.title()} validation errors:\")\n",
        "                for error in results.get('errors', []):\n",
        "                    print(f\"    {error}\")\n",
        "\n",
        "# Save the validated data\n",
        "output_dir = Path(\"data\")\n",
        "output_dir.mkdir(exist_ok=True)\n",
        "\n",
        "# Save organization data\n",
        "org_file = output_dir / \"sherwood_station_organization.json\"\n",
        "with open(org_file, 'w') as f:\n",
        "    json.dump(org_data, f, indent=2, default=str)\n",
        "print(f\"\\n✅ Saved organization data: {org_file}\")\n",
        "\n",
        "# Save supplier organizations\n",
        "suppliers_data = [s.dict(by_alias=True) for s in suppliers]\n",
        "suppliers_file = output_dir / \"supplier_organizations.json\"\n",
        "with open(suppliers_file, 'w') as f:\n",
        "    json.dump(suppliers_data, f, indent=2, default=str)\n",
        "print(f\"✅ Saved supplier data: {suppliers_file}\")\n",
        "\n",
        "# Save transactions\n",
        "transactions_data = [t.dict(by_alias=True) for t in transactions]\n",
        "transactions_file = output_dir / \"transactions.json\"\n",
        "with open(transactions_file, 'w') as f:\n",
        "    json.dump(transactions_data, f, indent=2, default=str)\n",
        "print(f\"✅ Saved transaction data: {transactions_file}\")\n",
        "\n",
        "# Save complete JSON-LD export\n",
        "jsonld_file = output_dir / \"complete_export.jsonld\"\n",
        "with open(jsonld_file, 'w') as f:\n",
        "    f.write(jsonld_export)\n",
        "print(f\"✅ Saved JSON-LD export: {jsonld_file}\")\n"
      ]
    }
  ],
  "metadata": {
    "kernelspec": {
      "display_name": "venv",
      "language": "python",
      "name": "python3"
    },
    "language_info": {
      "codemirror_mode": {
        "name": "ipython",
        "version": 3
      },
      "file_extension": ".py",
      "mimetype": "text/x-python",
      "name": "python",
      "nbconvert_exporter": "python",
      "pygments_lexer": "ipython3",
      "version": "3.10.9"
    }
  },
  "nbformat": 4,
  "nbformat_minor": 2
}
